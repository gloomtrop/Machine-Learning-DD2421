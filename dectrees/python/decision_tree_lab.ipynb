{
 "cells": [
  {
   "cell_type": "markdown",
   "id": "outdoor-workshop",
   "metadata": {},
   "source": [
    "# Decision Tree Lab"
   ]
  },
  {
   "cell_type": "markdown",
   "id": "better-raising",
   "metadata": {},
   "source": [
    "#### Libs"
   ]
  },
  {
   "cell_type": "code",
   "execution_count": 35,
   "id": "narrative-horror",
   "metadata": {},
   "outputs": [],
   "source": [
    "import pandas as pd"
   ]
  },
  {
   "cell_type": "markdown",
   "id": "fifteen-committee",
   "metadata": {},
   "source": [
    "## 2. Monkdata"
   ]
  },
  {
   "cell_type": "markdown",
   "id": "eight-adrian",
   "metadata": {},
   "source": [
    "### Assignment 0\n",
    ">Each one of the datasets has properties which makes\n",
    "them hard to learn. Motivate which of the three problems is most\n",
    "difficult for a decision tree algorithm to learn."
   ]
  },
  {
   "cell_type": "markdown",
   "id": "beginning-hebrew",
   "metadata": {},
   "source": [
    "### Answer 0\n",
    "Monk1: It can be difficult for the algorithm understand that `a1=a2`. They are identical while independant when evaluated. \n",
    "\n",
    "Monk2: Because of that the 6 attributes are computed independently. Realizing that exactly 2 `ai` must be 1 is a difficult task.\n",
    "\n",
    "Monk3: The most simple problem, but can possible lead to unnecessary long tree structures becuase of the long AND and OR logic."
   ]
  },
  {
   "cell_type": "code",
   "execution_count": 36,
   "id": "opposite-transmission",
   "metadata": {},
   "outputs": [],
   "source": [
    "import monkdata as m\n",
    "import dtree as dt"
   ]
  },
  {
   "cell_type": "markdown",
   "id": "ranging-dragon",
   "metadata": {},
   "source": [
    "___"
   ]
  },
  {
   "cell_type": "markdown",
   "id": "accomplished-purple",
   "metadata": {},
   "source": [
    "## 3. Entropy"
   ]
  },
  {
   "cell_type": "markdown",
   "id": "african-press",
   "metadata": {},
   "source": [
    "### Assignment 1\n",
    ">The file `dtree.py` defines a function entropy which\n",
    "calculates the entropy of a dataset. Import this file along with the\n",
    "monks datasets and use it to calculate the entropy of the training\n",
    "datasets."
   ]
  },
  {
   "cell_type": "code",
   "execution_count": 37,
   "id": "compound-girlfriend",
   "metadata": {},
   "outputs": [],
   "source": [
    "enp_1 = dt.entropy(m.monk1)"
   ]
  },
  {
   "cell_type": "code",
   "execution_count": 38,
   "id": "administrative-exhibition",
   "metadata": {},
   "outputs": [],
   "source": [
    "enp_2 = dt.entropy(m.monk2)"
   ]
  },
  {
   "cell_type": "code",
   "execution_count": 39,
   "id": "prostate-telephone",
   "metadata": {},
   "outputs": [],
   "source": [
    "enp_3 = dt.entropy(m.monk3)"
   ]
  },
  {
   "cell_type": "code",
   "execution_count": 40,
   "id": "natural-participation",
   "metadata": {},
   "outputs": [],
   "source": [
    "enp_data = {\"Monk1\": [enp_1], \n",
    "            \"Monk2\": [enp_2], \n",
    "            \"Monk3\": [enp_3]\n",
    "           }\n",
    "enp_df = pd.DataFrame(enp_data, index = [\"Entropy\"])"
   ]
  },
  {
   "cell_type": "markdown",
   "id": "athletic-hurricane",
   "metadata": {},
   "source": [
    "### Answer 1"
   ]
  },
  {
   "cell_type": "code",
   "execution_count": 41,
   "id": "meaning-behalf",
   "metadata": {},
   "outputs": [
    {
     "data": {
      "text/html": [
       "<div>\n",
       "<style scoped>\n",
       "    .dataframe tbody tr th:only-of-type {\n",
       "        vertical-align: middle;\n",
       "    }\n",
       "\n",
       "    .dataframe tbody tr th {\n",
       "        vertical-align: top;\n",
       "    }\n",
       "\n",
       "    .dataframe thead th {\n",
       "        text-align: right;\n",
       "    }\n",
       "</style>\n",
       "<table border=\"1\" class=\"dataframe\">\n",
       "  <thead>\n",
       "    <tr style=\"text-align: right;\">\n",
       "      <th></th>\n",
       "      <th>Monk1</th>\n",
       "      <th>Monk2</th>\n",
       "      <th>Monk3</th>\n",
       "    </tr>\n",
       "  </thead>\n",
       "  <tbody>\n",
       "    <tr>\n",
       "      <th>Entropy</th>\n",
       "      <td>1.0</td>\n",
       "      <td>0.957117</td>\n",
       "      <td>0.999806</td>\n",
       "    </tr>\n",
       "  </tbody>\n",
       "</table>\n",
       "</div>"
      ],
      "text/plain": [
       "         Monk1     Monk2     Monk3\n",
       "Entropy    1.0  0.957117  0.999806"
      ]
     },
     "execution_count": 41,
     "metadata": {},
     "output_type": "execute_result"
    }
   ],
   "source": [
    "enp_df"
   ]
  },
  {
   "cell_type": "markdown",
   "id": "original-journey",
   "metadata": {},
   "source": [
    "### Assignment 2\n",
    ">Explain entropy for a uniform distribution and a\n",
    "non-uniform distribution, present some example distributions with\n",
    "high and low entropy."
   ]
  },
  {
   "cell_type": "markdown",
   "id": "psychological-simon",
   "metadata": {},
   "source": [
    "### Answer 2\n",
    "***Uniform Distribution:*** \n",
    "1. A coin-flip is a uniform distribution because it is both equally likely that the flip is head or tail\n",
    "2. A toss of dice is a uniform distribution of the same reason\n",
    "- A coin-flip has lower entropy than a dice-toss because the probability of an arbitrary outcome is higher, i.e there are fewer options and there for more predictable and lower entropy.\n",
    "\n",
    "***Non-uniform distribution***\n",
    "1. A non-uniform distribution could be a dice which are more likely (50%) to land on 6 than the other 1,2,3,4,5 (10%). This has actually lower entropy/more predictable than a normal dice. "
   ]
  },
  {
   "cell_type": "markdown",
   "id": "compliant-waterproof",
   "metadata": {},
   "source": [
    "___"
   ]
  },
  {
   "cell_type": "markdown",
   "id": "neural-jamaica",
   "metadata": {},
   "source": [
    "## 4. Information Gain"
   ]
  },
  {
   "cell_type": "markdown",
   "id": "excessive-killing",
   "metadata": {},
   "source": [
    "### Assignment 3\n",
    ">Use the function `averageGain` (defined in `dtree.py`)\n",
    "to calculate the expected information gain corresponding to each of\n",
    "the six attributes. Note that the attributes are represented as in-\n",
    "stances of the class Attribute (defined in `monkdata.py`) which you\n",
    "can access via `m.attributes[0]`, ..., `m.attributes[5]`. Based on\n",
    "the results, which attribute should be used for splitting the examples\n",
    "at the root node?"
   ]
  },
  {
   "cell_type": "code",
   "execution_count": 42,
   "id": "exotic-throw",
   "metadata": {},
   "outputs": [],
   "source": [
    "info_gain = {\"a1\":[],\"a2\":[],\"a3\":[],\"a4\":[],\"a5\":[],\"a6\":[], }\n",
    "monks = [m.monk1, m.monk2, m.monk3]\n",
    "\n",
    "\n",
    "for i in range(6):\n",
    "    attr_gain = list()\n",
    "    for j in range(3):\n",
    "        info= dt.averageGain(monks[j], m.attributes[i])\n",
    "        info_gain[\"a\"+str(i+1)].append(info)\n",
    "        "
   ]
  },
  {
   "cell_type": "code",
   "execution_count": 43,
   "id": "french-cholesterol",
   "metadata": {},
   "outputs": [],
   "source": [
    "info_gain_df = pd.DataFrame(info_gain, index = [\"monk1\", \"monk2\", \"monk3\"])"
   ]
  },
  {
   "cell_type": "code",
   "execution_count": 44,
   "id": "israeli-broadcast",
   "metadata": {},
   "outputs": [
    {
     "data": {
      "text/html": [
       "<div>\n",
       "<style scoped>\n",
       "    .dataframe tbody tr th:only-of-type {\n",
       "        vertical-align: middle;\n",
       "    }\n",
       "\n",
       "    .dataframe tbody tr th {\n",
       "        vertical-align: top;\n",
       "    }\n",
       "\n",
       "    .dataframe thead th {\n",
       "        text-align: right;\n",
       "    }\n",
       "</style>\n",
       "<table border=\"1\" class=\"dataframe\">\n",
       "  <thead>\n",
       "    <tr style=\"text-align: right;\">\n",
       "      <th></th>\n",
       "      <th>a1</th>\n",
       "      <th>a2</th>\n",
       "      <th>a3</th>\n",
       "      <th>a4</th>\n",
       "      <th>a5</th>\n",
       "      <th>a6</th>\n",
       "    </tr>\n",
       "  </thead>\n",
       "  <tbody>\n",
       "    <tr>\n",
       "      <th>monk1</th>\n",
       "      <td>0.075273</td>\n",
       "      <td>0.005838</td>\n",
       "      <td>0.004708</td>\n",
       "      <td>0.026312</td>\n",
       "      <td>0.287031</td>\n",
       "      <td>0.000758</td>\n",
       "    </tr>\n",
       "    <tr>\n",
       "      <th>monk2</th>\n",
       "      <td>0.003756</td>\n",
       "      <td>0.002458</td>\n",
       "      <td>0.001056</td>\n",
       "      <td>0.015664</td>\n",
       "      <td>0.017277</td>\n",
       "      <td>0.006248</td>\n",
       "    </tr>\n",
       "    <tr>\n",
       "      <th>monk3</th>\n",
       "      <td>0.007121</td>\n",
       "      <td>0.293736</td>\n",
       "      <td>0.000831</td>\n",
       "      <td>0.002892</td>\n",
       "      <td>0.255912</td>\n",
       "      <td>0.007077</td>\n",
       "    </tr>\n",
       "  </tbody>\n",
       "</table>\n",
       "</div>"
      ],
      "text/plain": [
       "             a1        a2        a3        a4        a5        a6\n",
       "monk1  0.075273  0.005838  0.004708  0.026312  0.287031  0.000758\n",
       "monk2  0.003756  0.002458  0.001056  0.015664  0.017277  0.006248\n",
       "monk3  0.007121  0.293736  0.000831  0.002892  0.255912  0.007077"
      ]
     },
     "execution_count": 44,
     "metadata": {},
     "output_type": "execute_result"
    }
   ],
   "source": [
    "info_gain_df"
   ]
  },
  {
   "cell_type": "markdown",
   "id": "corporate-grammar",
   "metadata": {},
   "source": [
    "### Answer 3\n",
    "- Monk1: `a5`\n",
    "- Monk2: `a5`\n",
    "- Monk3: `a2`"
   ]
  },
  {
   "cell_type": "markdown",
   "id": "accomplished-combat",
   "metadata": {},
   "source": [
    "### Assignment 4\n",
    ">For splitting we choose the attribute that maximizes\n",
    "the information gain, ***Eq.3***. Looking at ***Eq.3*** how does the entropy of\n",
    "the subsets, ***Sk***, look like when the information gain is maximized?\n",
    "How can we motivate using the information gain as a heuristic for\n",
    "picking an attribute for splitting? Think about reduction in entropy\n",
    "after the split and what the entropy implies."
   ]
  },
  {
   "cell_type": "markdown",
   "id": "brazilian-message",
   "metadata": {},
   "source": [
    "### Answer 4 \n",
    "- When the information gain is maximized, the entropy of Sk will decrease until 0 in theory, i.e a leaf. \n",
    "- By picking the attribute with the largest information gain which means reducing the uncertainty the most. Which in return means we can create subsets with a lower entropy than before. "
   ]
  },
  {
   "cell_type": "markdown",
   "id": "classified-symbol",
   "metadata": {},
   "source": [
    "___"
   ]
  },
  {
   "cell_type": "markdown",
   "id": "reasonable-conversion",
   "metadata": {},
   "source": [
    "## 5. Building Decision Trees"
   ]
  },
  {
   "cell_type": "markdown",
   "id": "frank-muscle",
   "metadata": {},
   "source": [
    "### Assignment 5\n",
    "> Build the full decision trees for all three Monk\n",
    "datasets using `buildTree`. Then, use the function `check` to measure the performance of the decision tree on both the training and\n",
    "test datasets.\n",
    "For example to built a tree for `monk1`and compute the performance\n",
    "on the test data you could use \n",
    "<br>\n",
    "<br>\n",
    "`\n",
    "import monkdata as m\n",
    "import dtree as d\n",
    "t=d.buildTree(m.monk1, m.attributes);\n",
    "print(d.check(t, m.monk1test))\n",
    "`\n",
    "<br>\n",
    "<br>\n",
    "Compute the train and test set errors for the three Monk datasets\n",
    "for the full trees. Were your assumptions about the datasets correct?\n",
    "Explain the results you get for the training and test datasets."
   ]
  },
  {
   "cell_type": "code",
   "execution_count": 45,
   "id": "objective-blues",
   "metadata": {},
   "outputs": [],
   "source": [
    "errors = {\"E_train\":[],\"E_test\":[]}\n",
    "monktests = [m.monk1test, m.monk2test, m.monk3test]\n",
    "\n",
    "for i in range(len(monks)):\n",
    "    errors[\"E_train\"].append(0.0)\n",
    "\n",
    "for i in range(3):\n",
    "    t=dt.buildTree(monks[i], m.attributes);\n",
    "    errors[\"E_test\"].append(1-dt.check(t, monktests[i]))"
   ]
  },
  {
   "cell_type": "code",
   "execution_count": 46,
   "id": "spectacular-hunter",
   "metadata": {},
   "outputs": [],
   "source": [
    "errors_df = pd.DataFrame(errors, index = [\"Monk1\", \"Monk2\", \"Monk3\"])"
   ]
  },
  {
   "cell_type": "markdown",
   "id": "living-arrival",
   "metadata": {},
   "source": [
    "### Answer 5"
   ]
  },
  {
   "cell_type": "code",
   "execution_count": 47,
   "id": "asian-notion",
   "metadata": {},
   "outputs": [
    {
     "data": {
      "text/html": [
       "<div>\n",
       "<style scoped>\n",
       "    .dataframe tbody tr th:only-of-type {\n",
       "        vertical-align: middle;\n",
       "    }\n",
       "\n",
       "    .dataframe tbody tr th {\n",
       "        vertical-align: top;\n",
       "    }\n",
       "\n",
       "    .dataframe thead th {\n",
       "        text-align: right;\n",
       "    }\n",
       "</style>\n",
       "<table border=\"1\" class=\"dataframe\">\n",
       "  <thead>\n",
       "    <tr style=\"text-align: right;\">\n",
       "      <th></th>\n",
       "      <th>E_train</th>\n",
       "      <th>E_test</th>\n",
       "    </tr>\n",
       "  </thead>\n",
       "  <tbody>\n",
       "    <tr>\n",
       "      <th>Monk1</th>\n",
       "      <td>0.0</td>\n",
       "      <td>0.171296</td>\n",
       "    </tr>\n",
       "    <tr>\n",
       "      <th>Monk2</th>\n",
       "      <td>0.0</td>\n",
       "      <td>0.307870</td>\n",
       "    </tr>\n",
       "    <tr>\n",
       "      <th>Monk3</th>\n",
       "      <td>0.0</td>\n",
       "      <td>0.055556</td>\n",
       "    </tr>\n",
       "  </tbody>\n",
       "</table>\n",
       "</div>"
      ],
      "text/plain": [
       "       E_train    E_test\n",
       "Monk1      0.0  0.171296\n",
       "Monk2      0.0  0.307870\n",
       "Monk3      0.0  0.055556"
      ]
     },
     "execution_count": 47,
     "metadata": {},
     "output_type": "execute_result"
    }
   ],
   "source": [
    "errors_df"
   ]
  },
  {
   "cell_type": "markdown",
   "id": "saving-korea",
   "metadata": {},
   "source": [
    "There is no error for E_train because of the compared sets are the same. E_test result suggest that Monk2 is more overfitted than Monk1 & Monk3. At the same time, the logic for the `True` values in ***Assignment 0*** can be assumed correct. As the Decision Tree's difficulty to find a good tree structure came in the order Monk2, Monk1 & Monk3 read from the errors."
   ]
  },
  {
   "cell_type": "code",
   "execution_count": 1,
   "id": "entertaining-strategy",
   "metadata": {},
   "outputs": [],
   "source": [
    "import drawtree_qt5 as qt5\n",
    "qt5.drawTree(t)"
   ]
  },
  {
   "cell_type": "markdown",
   "id": "sitting-principal",
   "metadata": {},
   "source": [
    "___"
   ]
  },
  {
   "cell_type": "markdown",
   "id": "fourth-apparel",
   "metadata": {},
   "source": [
    "## 6. Pruning"
   ]
  },
  {
   "cell_type": "markdown",
   "id": "going-suicide",
   "metadata": {},
   "source": [
    "### Assignment 6\n",
    "Explain pruning from a bias variance trade-of perspective."
   ]
  },
  {
   "cell_type": "markdown",
   "id": "olympic-installation",
   "metadata": {},
   "source": [
    "### Answer 6\n",
    "Classification trees, i.e Decision Trees, are prone to overfit because of its high variance. To reduce the overfit, pruning is used which lower the variance but also increase the bias (because you can miss relevant nodes - information loss). "
   ]
  },
  {
   "cell_type": "markdown",
   "id": "republican-enterprise",
   "metadata": {},
   "source": [
    "### Partition"
   ]
  },
  {
   "cell_type": "code",
   "execution_count": 116,
   "id": "failing-infrastructure",
   "metadata": {},
   "outputs": [],
   "source": [
    "import random\n",
    "\n",
    "def partition(data, fraction):\n",
    "    ldata = list(data)\n",
    "    random.shuffle(ldata)\n",
    "    breakPoint = int(len(ldata) * fraction)\n",
    "    return ldata[:breakPoint], ldata[breakPoint:]\n"
   ]
  },
  {
   "cell_type": "code",
   "execution_count": 117,
   "id": "august-growing",
   "metadata": {},
   "outputs": [],
   "source": [
    "def prune(data, fraction, test):\n",
    "    train, val = partition(data, fraction)\n",
    "    new_tree = dt.buildTree(train, m.attributes);\n",
    "    best_error = float(\"inf\");\n",
    "    while True:\n",
    "            \n",
    "        alternativeTrees = dt.allPruned(new_tree)\n",
    "        min_error = float(\"inf\");\n",
    "        best_tree = float(\"inf\")\n",
    "        if len(alternativeTrees) == 1:\n",
    "            break\n",
    "        for i in range (1, len(alternativeTrees)):\n",
    "            error = (1 - dt.check(alternativeTrees[i], val))\n",
    "            if error < min_error:\n",
    "                min_error = error\n",
    "                best_tree = i\n",
    "        if (min_error <= best_error):\n",
    "            best_error = min_error\n",
    "        else:\n",
    "            break\n",
    "        new_tree = alternativeTrees[best_tree]\n",
    "    return 1 - dt.check(new_tree, test) \n"
   ]
  },
  {
   "cell_type": "code",
   "execution_count": 118,
   "id": "artistic-revolution",
   "metadata": {},
   "outputs": [],
   "source": [
    "fractions = [0.3, 0.4, 0.5, 0.6, 0.7, 0.8]\n",
    "monk_errors = {\"monk1_0.3\":[], \"monk1_0.4\":[], \"monk1_0.5\":[], \"monk1_0.6\":[], \"monk1_0.7\":[], \"monk1_0.8\":[],\n",
    "             \"monk3_0.3\":[], \"monk3_0.4\":[], \"monk3_0.5\":[], \"monk3_0.6\":[], \"monk3_0.7\":[], \"monk3_0.8\":[]}\n",
    "N = 1000\n",
    "for i in range(len(fractions)):\n",
    "    for _ in range (N):\n",
    "            t=dt.buildTree(m.monk1, m.attributes)\n",
    "            error = prune(m.monk1, fractions[i], m.monk1test)\n",
    "            monk_errors[\"monk1_\"+ str(fractions[i])].append(error)\n",
    "\n",
    "            t=dt.buildTree(m.monk3, m.attributes)\n",
    "            error = prune(m.monk3, fractions[i], m.monk3test)\n",
    "            monk_errors[\"monk3_\"+ str(fractions[i])].append(error)\n",
    "            \n",
    "    \n",
    "    "
   ]
  },
  {
   "cell_type": "markdown",
   "id": "working-coordinate",
   "metadata": {},
   "source": [
    "### Assignment 7\n",
    "Evaluate the effect pruning has on the test error for\n",
    "the `monk1` and `monk3` datasets, in particular determine the optimal\n",
    "partition into training and pruning by optimizing the parameter\n",
    "`fraction`. Plot the classifcation error on the test sets as a function\n",
    "of the parameter `fraction` = {0.3, 0.4, 0.5, 0.6, 0.7, 0.8}.\n",
    "Note that the split of the data is random. We therefore need to\n",
    "compute the statistics over several runs of the split to be able to draw\n",
    "any conclusions. Reasonable statistics includes mean and a measure\n",
    "of the spread. Do remember to print axes labels, legends and data\n",
    "points as you will not pass without them."
   ]
  },
  {
   "cell_type": "markdown",
   "id": "premier-special",
   "metadata": {},
   "source": [
    "### Answer 7"
   ]
  },
  {
   "cell_type": "code",
   "execution_count": 119,
   "id": "smart-knock",
   "metadata": {},
   "outputs": [],
   "source": [
    "import matplotlib.pyplot as plt"
   ]
  },
  {
   "cell_type": "code",
   "execution_count": 120,
   "id": "incoming-rocket",
   "metadata": {},
   "outputs": [],
   "source": [
    "dfm_errors = pd.DataFrame(monk_errors)"
   ]
  },
  {
   "cell_type": "code",
   "execution_count": 121,
   "id": "toxic-plymouth",
   "metadata": {},
   "outputs": [
    {
     "data": {
      "image/png": "[encoded data removed]",
      "text/plain": [
       "<Figure size 640x480 with 1 Axes>"
      ]
     },
     "metadata": {
      "needs_background": "light"
     },
     "output_type": "display_data"
    }
   ],
   "source": [
    "plt.figure(figsize=(8, 6), dpi = 80)\n",
    "plt.errorbar(fractions, dfm_errors.mean()[:6], yerr = dfm_errors.std()[:6], fmt = \"-o\")\n",
    "plt.title(\"Monk1: Error vs Fraction\")\n",
    "plt.legend([\"Mean of Error\"])\n",
    "plt.xlabel(\"Fraction\")\n",
    "plt.ylabel(\"Error\")\n",
    "plt.show()"
   ]
  },
  {
   "cell_type": "code",
   "execution_count": 122,
   "id": "sized-publisher",
   "metadata": {},
   "outputs": [
    {
     "data": {
      "image/png": "[encoded data removed]",
      "text/plain": [
       "<Figure size 640x480 with 1 Axes>"
      ]
     },
     "metadata": {
      "needs_background": "light"
     },
     "output_type": "display_data"
    }
   ],
   "source": [
    "plt.figure(figsize=(8, 6), dpi = 80)\n",
    "plt.errorbar(x = fractions, y = dfm_errors.mean()[6:], yerr = dfm_errors.std()[6:], fmt='-o')\n",
    "plt.title(\"Monk3: Error vs Fraction\")\n",
    "plt.legend([\"Mean of Error\"])\n",
    "plt.xlabel(\"Fraction\")\n",
    "plt.ylabel(\"Error\")\n",
    "plt.show()"
   ]
  },
  {
   "cell_type": "code",
   "execution_count": null,
   "id": "electrical-communications",
   "metadata": {},
   "outputs": [],
   "source": []
  }
 ],
 "metadata": {
  "kernelspec": {
   "display_name": "Python 3",
   "language": "python",
   "name": "python3"
  },
  "language_info": {
   "codemirror_mode": {
    "name": "ipython",
    "version": 3
   },
   "file_extension": ".py",
   "mimetype": "text/x-python",
   "name": "python",
   "nbconvert_exporter": "python",
   "pygments_lexer": "ipython3",
   "version": "3.9.2"
  }
 },
 "nbformat": 4,
 "nbformat_minor": 5
}
