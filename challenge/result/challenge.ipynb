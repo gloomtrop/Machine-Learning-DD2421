{
 "cells": [
  {
   "cell_type": "code",
   "execution_count": 1,
   "metadata": {
    "id": "YwMczQDR-1LH"
   },
   "outputs": [],
   "source": [
    "import pandas as pd\n",
    "import numpy as np\n",
    "import matplotlib.pyplot as plt\n",
    "import seaborn as sns\n",
    "from sklearn.model_selection import train_test_split\n",
    "from xgboost import XGBClassifier\n",
    "from xgboost import plot_importance\n",
    "from xgboost import cv\n",
    "from sklearn.metrics import accuracy_score\n",
    "from hyperopt import STATUS_OK, Trials, fmin, hp, tpe\n",
    "from sklearn.utils import shuffle\n",
    "from sklearn.model_selection import cross_val_score\n",
    "import xgboost as xgb\n",
    "from sklearn.utils import class_weight\n"
   ]
  },
  {
   "cell_type": "code",
   "execution_count": 2,
   "metadata": {
    "id": "dQ9nO1xY-5D_"
   },
   "outputs": [],
   "source": [
    "train = pd.read_csv(\"TrainOnMe-2.csv\")\n",
    "test = pd.read_csv(\"EvaluateOnMe-2.csv\")"
   ]
  },
  {
   "cell_type": "code",
   "execution_count": 3,
   "metadata": {
    "colab": {
     "base_uri": "https://localhost:8080/",
     "height": 306
    },
    "id": "nfrojGFULXaY",
    "outputId": "85d84d18-0c3a-4294-850b-77b4d39290cd"
   },
   "outputs": [
    {
     "data": {
      "text/html": [
       "<div>\n",
       "<style scoped>\n",
       "    .dataframe tbody tr th:only-of-type {\n",
       "        vertical-align: middle;\n",
       "    }\n",
       "\n",
       "    .dataframe tbody tr th {\n",
       "        vertical-align: top;\n",
       "    }\n",
       "\n",
       "    .dataframe thead th {\n",
       "        text-align: right;\n",
       "    }\n",
       "</style>\n",
       "<table border=\"1\" class=\"dataframe\">\n",
       "  <thead>\n",
       "    <tr style=\"text-align: right;\">\n",
       "      <th></th>\n",
       "      <th>Unnamed: 0</th>\n",
       "      <th>x1</th>\n",
       "      <th>x2</th>\n",
       "      <th>x3</th>\n",
       "      <th>x4</th>\n",
       "      <th>x5</th>\n",
       "      <th>x6</th>\n",
       "      <th>x7</th>\n",
       "      <th>x8</th>\n",
       "      <th>x9</th>\n",
       "      <th>x10</th>\n",
       "      <th>x11</th>\n",
       "      <th>x12</th>\n",
       "      <th>x13</th>\n",
       "    </tr>\n",
       "  </thead>\n",
       "  <tbody>\n",
       "    <tr>\n",
       "      <th>0</th>\n",
       "      <td>1000</td>\n",
       "      <td>0.81313</td>\n",
       "      <td>0.38023</td>\n",
       "      <td>5.85070</td>\n",
       "      <td>-9.18530</td>\n",
       "      <td>9.93106</td>\n",
       "      <td>0.36759</td>\n",
       "      <td>Jerry Fernström</td>\n",
       "      <td>1.83292</td>\n",
       "      <td>1.89491</td>\n",
       "      <td>-6.29609</td>\n",
       "      <td>-0.62245</td>\n",
       "      <td>True</td>\n",
       "      <td>43.58182</td>\n",
       "    </tr>\n",
       "    <tr>\n",
       "      <th>1</th>\n",
       "      <td>1001</td>\n",
       "      <td>0.05435</td>\n",
       "      <td>0.89732</td>\n",
       "      <td>1.50829</td>\n",
       "      <td>-8.79618</td>\n",
       "      <td>9.84085</td>\n",
       "      <td>0.83846</td>\n",
       "      <td>Erik Sven Fernström</td>\n",
       "      <td>-1.75396</td>\n",
       "      <td>-0.71970</td>\n",
       "      <td>-8.54241</td>\n",
       "      <td>-2.00896</td>\n",
       "      <td>True</td>\n",
       "      <td>3.47168</td>\n",
       "    </tr>\n",
       "    <tr>\n",
       "      <th>2</th>\n",
       "      <td>1002</td>\n",
       "      <td>0.93130</td>\n",
       "      <td>1.13181</td>\n",
       "      <td>-6.25123</td>\n",
       "      <td>-9.24025</td>\n",
       "      <td>9.97088</td>\n",
       "      <td>1.10935</td>\n",
       "      <td>Erik Sven Fernström</td>\n",
       "      <td>-1.89190</td>\n",
       "      <td>-0.71282</td>\n",
       "      <td>-11.91278</td>\n",
       "      <td>-0.24137</td>\n",
       "      <td>False</td>\n",
       "      <td>43.43945</td>\n",
       "    </tr>\n",
       "    <tr>\n",
       "      <th>3</th>\n",
       "      <td>1003</td>\n",
       "      <td>0.81462</td>\n",
       "      <td>0.32761</td>\n",
       "      <td>-2.58948</td>\n",
       "      <td>-9.90454</td>\n",
       "      <td>10.21894</td>\n",
       "      <td>0.28165</td>\n",
       "      <td>Jerry Fernström</td>\n",
       "      <td>0.71816</td>\n",
       "      <td>0.55542</td>\n",
       "      <td>-9.96034</td>\n",
       "      <td>-1.35239</td>\n",
       "      <td>False</td>\n",
       "      <td>39.43638</td>\n",
       "    </tr>\n",
       "    <tr>\n",
       "      <th>4</th>\n",
       "      <td>1004</td>\n",
       "      <td>2.02671</td>\n",
       "      <td>0.71385</td>\n",
       "      <td>-4.34367</td>\n",
       "      <td>-9.14374</td>\n",
       "      <td>10.12963</td>\n",
       "      <td>0.72507</td>\n",
       "      <td>Jerry Fernström</td>\n",
       "      <td>0.43896</td>\n",
       "      <td>1.29437</td>\n",
       "      <td>-7.76422</td>\n",
       "      <td>-1.28642</td>\n",
       "      <td>False</td>\n",
       "      <td>99.16370</td>\n",
       "    </tr>\n",
       "  </tbody>\n",
       "</table>\n",
       "</div>"
      ],
      "text/plain": [
       "   Unnamed: 0       x1       x2       x3  ...       x10      x11    x12       x13\n",
       "0        1000  0.81313  0.38023  5.85070  ...  -6.29609 -0.62245   True  43.58182\n",
       "1        1001  0.05435  0.89732  1.50829  ...  -8.54241 -2.00896   True   3.47168\n",
       "2        1002  0.93130  1.13181 -6.25123  ... -11.91278 -0.24137  False  43.43945\n",
       "3        1003  0.81462  0.32761 -2.58948  ...  -9.96034 -1.35239  False  39.43638\n",
       "4        1004  2.02671  0.71385 -4.34367  ...  -7.76422 -1.28642  False  99.16370\n",
       "\n",
       "[5 rows x 14 columns]"
      ]
     },
     "execution_count": 3,
     "metadata": {},
     "output_type": "execute_result"
    }
   ],
   "source": [
    "test.head()"
   ]
  },
  {
   "cell_type": "code",
   "execution_count": 4,
   "metadata": {
    "colab": {
     "base_uri": "https://localhost:8080/",
     "height": 326
    },
    "id": "rnc5Is7WLaIt",
    "outputId": "ef20e431-6a86-437f-c8d1-1d5d5d0015f5"
   },
   "outputs": [
    {
     "data": {
      "text/html": [
       "<div>\n",
       "<style scoped>\n",
       "    .dataframe tbody tr th:only-of-type {\n",
       "        vertical-align: middle;\n",
       "    }\n",
       "\n",
       "    .dataframe tbody tr th {\n",
       "        vertical-align: top;\n",
       "    }\n",
       "\n",
       "    .dataframe thead th {\n",
       "        text-align: right;\n",
       "    }\n",
       "</style>\n",
       "<table border=\"1\" class=\"dataframe\">\n",
       "  <thead>\n",
       "    <tr style=\"text-align: right;\">\n",
       "      <th></th>\n",
       "      <th>Unnamed: 0</th>\n",
       "      <th>y</th>\n",
       "      <th>x1</th>\n",
       "      <th>x2</th>\n",
       "      <th>x3</th>\n",
       "      <th>x4</th>\n",
       "      <th>x5</th>\n",
       "      <th>x6</th>\n",
       "      <th>x7</th>\n",
       "      <th>x8</th>\n",
       "      <th>x9</th>\n",
       "      <th>x10</th>\n",
       "      <th>x11</th>\n",
       "      <th>x12</th>\n",
       "      <th>x13</th>\n",
       "    </tr>\n",
       "  </thead>\n",
       "  <tbody>\n",
       "    <tr>\n",
       "      <th>0</th>\n",
       "      <td>0</td>\n",
       "      <td>Shoogee</td>\n",
       "      <td>2.20274</td>\n",
       "      <td>-0.04690</td>\n",
       "      <td>-4.69816</td>\n",
       "      <td>-9.07800</td>\n",
       "      <td>10.13118</td>\n",
       "      <td>-0.08900</td>\n",
       "      <td>Erik Sven Williams</td>\n",
       "      <td>0.54191</td>\n",
       "      <td>0.52041</td>\n",
       "      <td>-5.66990</td>\n",
       "      <td>-0.93831</td>\n",
       "      <td>False</td>\n",
       "      <td>107.78776</td>\n",
       "    </tr>\n",
       "    <tr>\n",
       "      <th>1</th>\n",
       "      <td>1</td>\n",
       "      <td>Bob</td>\n",
       "      <td>2.01516</td>\n",
       "      <td>-0.12177</td>\n",
       "      <td>-4.24286</td>\n",
       "      <td>-9.79772</td>\n",
       "      <td>9.98259</td>\n",
       "      <td>-0.01485</td>\n",
       "      <td>Erik Sven Williams</td>\n",
       "      <td>-1.21671</td>\n",
       "      <td>1.18749</td>\n",
       "      <td>-9.25300</td>\n",
       "      <td>-1.21892</td>\n",
       "      <td>False</td>\n",
       "      <td>98.63633</td>\n",
       "    </tr>\n",
       "    <tr>\n",
       "      <th>2</th>\n",
       "      <td>2</td>\n",
       "      <td>Bob</td>\n",
       "      <td>0.02598</td>\n",
       "      <td>-0.24764</td>\n",
       "      <td>0.39977</td>\n",
       "      <td>-9.54167</td>\n",
       "      <td>10.53391</td>\n",
       "      <td>-0.27978</td>\n",
       "      <td>Erik Sven Williams</td>\n",
       "      <td>-2.39764</td>\n",
       "      <td>1.95167</td>\n",
       "      <td>-9.46447</td>\n",
       "      <td>-2.68910</td>\n",
       "      <td>True</td>\n",
       "      <td>1.49880</td>\n",
       "    </tr>\n",
       "    <tr>\n",
       "      <th>3</th>\n",
       "      <td>3</td>\n",
       "      <td>Jorg</td>\n",
       "      <td>0.39778</td>\n",
       "      <td>-0.83343</td>\n",
       "      <td>-2.14272</td>\n",
       "      <td>-9.06550</td>\n",
       "      <td>10.15047</td>\n",
       "      <td>-0.84583</td>\n",
       "      <td>Jerry från Solna</td>\n",
       "      <td>0.09768</td>\n",
       "      <td>0.92010</td>\n",
       "      <td>-11.17952</td>\n",
       "      <td>0.59877</td>\n",
       "      <td>False</td>\n",
       "      <td>18.81785</td>\n",
       "    </tr>\n",
       "    <tr>\n",
       "      <th>4</th>\n",
       "      <td>4</td>\n",
       "      <td>Jorg</td>\n",
       "      <td>1.25346</td>\n",
       "      <td>0.09320</td>\n",
       "      <td>1.54063</td>\n",
       "      <td>-9.33171</td>\n",
       "      <td>9.92016</td>\n",
       "      <td>0.09889</td>\n",
       "      <td>Jerry Fernström</td>\n",
       "      <td>-0.46134</td>\n",
       "      <td>0.16381</td>\n",
       "      <td>-12.07755</td>\n",
       "      <td>1.09106</td>\n",
       "      <td>True</td>\n",
       "      <td>63.44326</td>\n",
       "    </tr>\n",
       "  </tbody>\n",
       "</table>\n",
       "</div>"
      ],
      "text/plain": [
       "  Unnamed: 0        y       x1       x2  ...       x10      x11    x12        x13\n",
       "0          0  Shoogee  2.20274 -0.04690  ...  -5.66990 -0.93831  False  107.78776\n",
       "1          1      Bob  2.01516 -0.12177  ...  -9.25300 -1.21892  False   98.63633\n",
       "2          2      Bob  0.02598 -0.24764  ...  -9.46447 -2.68910   True    1.49880\n",
       "3          3     Jorg  0.39778 -0.83343  ... -11.17952  0.59877  False   18.81785\n",
       "4          4     Jorg  1.25346  0.09320  ... -12.07755  1.09106   True   63.44326\n",
       "\n",
       "[5 rows x 15 columns]"
      ]
     },
     "execution_count": 4,
     "metadata": {},
     "output_type": "execute_result"
    }
   ],
   "source": [
    "train.head()"
   ]
  },
  {
   "cell_type": "code",
   "execution_count": 5,
   "metadata": {
    "id": "zT3-qrt5KAZ6"
   },
   "outputs": [],
   "source": [
    "test = test.drop(\"Unnamed: 0\", axis = 1)"
   ]
  },
  {
   "cell_type": "code",
   "execution_count": 6,
   "metadata": {
    "colab": {
     "base_uri": "https://localhost:8080/"
    },
    "id": "Ea25ZVvT-6vY",
    "outputId": "f5c58d79-740d-4233-e260-a7020cc8c655"
   },
   "outputs": [
    {
     "name": "stdout",
     "output_type": "stream",
     "text": [
      "134 https://youtu.be/74TDvzZcHPw\n",
      "581 Det är då som det stora vemodet rullar in\n",
      "582 Och från havet blåser en isande\n",
      "803 Den här är felt. Darfor erase it.\n"
     ]
    }
   ],
   "source": [
    "for i, row in train[\"Unnamed: 0\"].iteritems():\n",
    "    try:\n",
    "        row = int(row)\n",
    "    except:\n",
    "        print(i, row)"
   ]
  },
  {
   "cell_type": "code",
   "execution_count": 7,
   "metadata": {
    "id": "ZbuRrRjc_IT1"
   },
   "outputs": [],
   "source": [
    "train = train.drop(\"Unnamed: 0\", axis = 1)"
   ]
  },
  {
   "cell_type": "code",
   "execution_count": 8,
   "metadata": {
    "id": "qx0LksD3IMvI"
   },
   "outputs": [],
   "source": [
    "train.dropna(inplace=True, axis=0)"
   ]
  },
  {
   "cell_type": "code",
   "execution_count": 9,
   "metadata": {
    "id": "6gduyIdPDrps"
   },
   "outputs": [],
   "source": [
    "from sklearn.utils import shuffle\n",
    "\n",
    "train = shuffle(train, random_state = 0)"
   ]
  },
  {
   "cell_type": "code",
   "execution_count": 10,
   "metadata": {
    "id": "NSNeUhpAEELv"
   },
   "outputs": [],
   "source": [
    "train = train.reset_index(drop = True)"
   ]
  },
  {
   "cell_type": "code",
   "execution_count": 11,
   "metadata": {
    "colab": {
     "base_uri": "https://localhost:8080/"
    },
    "id": "ntS5jVyzEU8C",
    "outputId": "a9cca272-934a-4cb3-f65e-fbce5a7e9482"
   },
   "outputs": [
    {
     "name": "stdout",
     "output_type": "stream",
     "text": [
      "137 https://youtu.be/0q_Bbd2SGtY\n",
      "y                              Jorg\n",
      "x1                          0.88362\n",
      "x2                          0.12864\n",
      "x3                         -4.91248\n",
      "x4                         -9.41917\n",
      "x5                          10.0493\n",
      "x6     https://youtu.be/0q_Bbd2SGtY\n",
      "x7                  Jerry Fernström\n",
      "x8                          0.60795\n",
      "x9                           2.3159\n",
      "x10                        -5.25392\n",
      "x11                        -1.40652\n",
      "x12                           False\n",
      "x13                         41.7249\n",
      "Name: 137, dtype: object\n"
     ]
    }
   ],
   "source": [
    "for i, val in train[\"x6\"].iteritems():\n",
    "  try:\n",
    "    float(val)\n",
    "  except:\n",
    "    print(i,val)\n",
    "    print(train.iloc[i])\n",
    "    train.drop(i, inplace = True)"
   ]
  },
  {
   "cell_type": "code",
   "execution_count": 12,
   "metadata": {
    "id": "T3IqVd8H_V9i"
   },
   "outputs": [],
   "source": [
    "train = train.astype({\"x6\": float})\n",
    "train = train.astype({\"x12\": bool})"
   ]
  },
  {
   "cell_type": "code",
   "execution_count": 13,
   "metadata": {
    "id": "EgEQg0Fgn746"
   },
   "outputs": [],
   "source": [
    "train = train.reset_index()"
   ]
  },
  {
   "cell_type": "code",
   "execution_count": 14,
   "metadata": {
    "colab": {
     "base_uri": "https://localhost:8080/"
    },
    "id": "K69necWa_Xpy",
    "outputId": "69646bf8-a686-4420-a552-21e49575aa32"
   },
   "outputs": [
    {
     "name": "stdout",
     "output_type": "stream",
     "text": [
      "y\n",
      "x7\n"
     ]
    }
   ],
   "source": [
    "encoder = dict()\n",
    "from sklearn.preprocessing import LabelEncoder\n",
    "labelencoder = LabelEncoder()\n",
    "\n",
    "for column in train.columns:\n",
    "    if train[column].dtype == \"object\":\n",
    "        print(column)\n",
    "        train[column + \"enc\"] = labelencoder.fit_transform(train[column])\n",
    "        encoder[column] = dict(zip(labelencoder.classes_, labelencoder.transform(labelencoder.classes_)))"
   ]
  },
  {
   "cell_type": "code",
   "execution_count": 15,
   "metadata": {
    "colab": {
     "base_uri": "https://localhost:8080/",
     "height": 204
    },
    "id": "SSJ5TW06K_gs",
    "outputId": "05e94fcc-97fd-4561-c2c4-236147747446"
   },
   "outputs": [
    {
     "data": {
      "text/html": [
       "<div>\n",
       "<style scoped>\n",
       "    .dataframe tbody tr th:only-of-type {\n",
       "        vertical-align: middle;\n",
       "    }\n",
       "\n",
       "    .dataframe tbody tr th {\n",
       "        vertical-align: top;\n",
       "    }\n",
       "\n",
       "    .dataframe thead th {\n",
       "        text-align: right;\n",
       "    }\n",
       "</style>\n",
       "<table border=\"1\" class=\"dataframe\">\n",
       "  <thead>\n",
       "    <tr style=\"text-align: right;\">\n",
       "      <th></th>\n",
       "      <th>x1</th>\n",
       "      <th>x2</th>\n",
       "      <th>x3</th>\n",
       "      <th>x4</th>\n",
       "      <th>x5</th>\n",
       "      <th>x6</th>\n",
       "      <th>x7</th>\n",
       "      <th>x8</th>\n",
       "      <th>x9</th>\n",
       "      <th>x10</th>\n",
       "      <th>x11</th>\n",
       "      <th>x12</th>\n",
       "      <th>x13</th>\n",
       "    </tr>\n",
       "  </thead>\n",
       "  <tbody>\n",
       "    <tr>\n",
       "      <th>0</th>\n",
       "      <td>0.81313</td>\n",
       "      <td>0.38023</td>\n",
       "      <td>5.85070</td>\n",
       "      <td>-9.18530</td>\n",
       "      <td>9.93106</td>\n",
       "      <td>0.36759</td>\n",
       "      <td>Jerry Fernström</td>\n",
       "      <td>1.83292</td>\n",
       "      <td>1.89491</td>\n",
       "      <td>-6.29609</td>\n",
       "      <td>-0.62245</td>\n",
       "      <td>True</td>\n",
       "      <td>43.58182</td>\n",
       "    </tr>\n",
       "    <tr>\n",
       "      <th>1</th>\n",
       "      <td>0.05435</td>\n",
       "      <td>0.89732</td>\n",
       "      <td>1.50829</td>\n",
       "      <td>-8.79618</td>\n",
       "      <td>9.84085</td>\n",
       "      <td>0.83846</td>\n",
       "      <td>Erik Sven Fernström</td>\n",
       "      <td>-1.75396</td>\n",
       "      <td>-0.71970</td>\n",
       "      <td>-8.54241</td>\n",
       "      <td>-2.00896</td>\n",
       "      <td>True</td>\n",
       "      <td>3.47168</td>\n",
       "    </tr>\n",
       "    <tr>\n",
       "      <th>2</th>\n",
       "      <td>0.93130</td>\n",
       "      <td>1.13181</td>\n",
       "      <td>-6.25123</td>\n",
       "      <td>-9.24025</td>\n",
       "      <td>9.97088</td>\n",
       "      <td>1.10935</td>\n",
       "      <td>Erik Sven Fernström</td>\n",
       "      <td>-1.89190</td>\n",
       "      <td>-0.71282</td>\n",
       "      <td>-11.91278</td>\n",
       "      <td>-0.24137</td>\n",
       "      <td>False</td>\n",
       "      <td>43.43945</td>\n",
       "    </tr>\n",
       "    <tr>\n",
       "      <th>3</th>\n",
       "      <td>0.81462</td>\n",
       "      <td>0.32761</td>\n",
       "      <td>-2.58948</td>\n",
       "      <td>-9.90454</td>\n",
       "      <td>10.21894</td>\n",
       "      <td>0.28165</td>\n",
       "      <td>Jerry Fernström</td>\n",
       "      <td>0.71816</td>\n",
       "      <td>0.55542</td>\n",
       "      <td>-9.96034</td>\n",
       "      <td>-1.35239</td>\n",
       "      <td>False</td>\n",
       "      <td>39.43638</td>\n",
       "    </tr>\n",
       "    <tr>\n",
       "      <th>4</th>\n",
       "      <td>2.02671</td>\n",
       "      <td>0.71385</td>\n",
       "      <td>-4.34367</td>\n",
       "      <td>-9.14374</td>\n",
       "      <td>10.12963</td>\n",
       "      <td>0.72507</td>\n",
       "      <td>Jerry Fernström</td>\n",
       "      <td>0.43896</td>\n",
       "      <td>1.29437</td>\n",
       "      <td>-7.76422</td>\n",
       "      <td>-1.28642</td>\n",
       "      <td>False</td>\n",
       "      <td>99.16370</td>\n",
       "    </tr>\n",
       "  </tbody>\n",
       "</table>\n",
       "</div>"
      ],
      "text/plain": [
       "        x1       x2       x3       x4  ...       x10      x11    x12       x13\n",
       "0  0.81313  0.38023  5.85070 -9.18530  ...  -6.29609 -0.62245   True  43.58182\n",
       "1  0.05435  0.89732  1.50829 -8.79618  ...  -8.54241 -2.00896   True   3.47168\n",
       "2  0.93130  1.13181 -6.25123 -9.24025  ... -11.91278 -0.24137  False  43.43945\n",
       "3  0.81462  0.32761 -2.58948 -9.90454  ...  -9.96034 -1.35239  False  39.43638\n",
       "4  2.02671  0.71385 -4.34367 -9.14374  ...  -7.76422 -1.28642  False  99.16370\n",
       "\n",
       "[5 rows x 13 columns]"
      ]
     },
     "execution_count": 15,
     "metadata": {},
     "output_type": "execute_result"
    }
   ],
   "source": [
    "test.head()"
   ]
  },
  {
   "cell_type": "code",
   "execution_count": 16,
   "metadata": {
    "id": "8uy8-FFtKmXm"
   },
   "outputs": [],
   "source": [
    "encoder_test = dict()\n",
    "from sklearn.preprocessing import LabelEncoder\n",
    "labelencoder = LabelEncoder()\n",
    "\n",
    "for column in test.columns:\n",
    "    if test[column].dtype == \"object\":\n",
    "        test[column + \"enc\"] = labelencoder.fit_transform(test[column])\n",
    "        encoder_test[column] = dict(zip(labelencoder.classes_, labelencoder.transform(labelencoder.classes_)))"
   ]
  },
  {
   "cell_type": "code",
   "execution_count": 17,
   "metadata": {
    "id": "wJ8xdAslKwGu"
   },
   "outputs": [],
   "source": [
    "testM = test[[\"x1\",\"x2\",\"x3\",\"x4\",\"x5\",\"x6\", \"x8\",\"x9\",\"x10\",\"x11\",\"x13\",\"x7enc\", \"x12\"]]"
   ]
  },
  {
   "cell_type": "code",
   "execution_count": 18,
   "metadata": {
    "id": "IQi12uaD_bCp"
   },
   "outputs": [],
   "source": [
    "trainM = train[[\"x1\",\"x2\",\"x3\",\"x4\",\"x5\",\"x6\", \"x8\",\"x9\",\"x10\",\"x11\",\"x13\",\"yenc\",\"x7enc\",\"x12\"]]"
   ]
  },
  {
   "cell_type": "code",
   "execution_count": 19,
   "metadata": {
    "colab": {
     "base_uri": "https://localhost:8080/",
     "height": 204
    },
    "id": "zymUQWXnL6jL",
    "outputId": "52e37413-a675-4040-b31e-e4056106fe1c"
   },
   "outputs": [
    {
     "data": {
      "text/html": [
       "<div>\n",
       "<style scoped>\n",
       "    .dataframe tbody tr th:only-of-type {\n",
       "        vertical-align: middle;\n",
       "    }\n",
       "\n",
       "    .dataframe tbody tr th {\n",
       "        vertical-align: top;\n",
       "    }\n",
       "\n",
       "    .dataframe thead th {\n",
       "        text-align: right;\n",
       "    }\n",
       "</style>\n",
       "<table border=\"1\" class=\"dataframe\">\n",
       "  <thead>\n",
       "    <tr style=\"text-align: right;\">\n",
       "      <th></th>\n",
       "      <th>x1</th>\n",
       "      <th>x2</th>\n",
       "      <th>x3</th>\n",
       "      <th>x4</th>\n",
       "      <th>x5</th>\n",
       "      <th>x6</th>\n",
       "      <th>x8</th>\n",
       "      <th>x9</th>\n",
       "      <th>x10</th>\n",
       "      <th>x11</th>\n",
       "      <th>x13</th>\n",
       "      <th>x7enc</th>\n",
       "      <th>x12</th>\n",
       "    </tr>\n",
       "  </thead>\n",
       "  <tbody>\n",
       "    <tr>\n",
       "      <th>0</th>\n",
       "      <td>0.81313</td>\n",
       "      <td>0.38023</td>\n",
       "      <td>5.85070</td>\n",
       "      <td>-9.18530</td>\n",
       "      <td>9.93106</td>\n",
       "      <td>0.36759</td>\n",
       "      <td>1.83292</td>\n",
       "      <td>1.89491</td>\n",
       "      <td>-6.29609</td>\n",
       "      <td>-0.62245</td>\n",
       "      <td>43.58182</td>\n",
       "      <td>2</td>\n",
       "      <td>True</td>\n",
       "    </tr>\n",
       "    <tr>\n",
       "      <th>1</th>\n",
       "      <td>0.05435</td>\n",
       "      <td>0.89732</td>\n",
       "      <td>1.50829</td>\n",
       "      <td>-8.79618</td>\n",
       "      <td>9.84085</td>\n",
       "      <td>0.83846</td>\n",
       "      <td>-1.75396</td>\n",
       "      <td>-0.71970</td>\n",
       "      <td>-8.54241</td>\n",
       "      <td>-2.00896</td>\n",
       "      <td>3.47168</td>\n",
       "      <td>0</td>\n",
       "      <td>True</td>\n",
       "    </tr>\n",
       "    <tr>\n",
       "      <th>2</th>\n",
       "      <td>0.93130</td>\n",
       "      <td>1.13181</td>\n",
       "      <td>-6.25123</td>\n",
       "      <td>-9.24025</td>\n",
       "      <td>9.97088</td>\n",
       "      <td>1.10935</td>\n",
       "      <td>-1.89190</td>\n",
       "      <td>-0.71282</td>\n",
       "      <td>-11.91278</td>\n",
       "      <td>-0.24137</td>\n",
       "      <td>43.43945</td>\n",
       "      <td>0</td>\n",
       "      <td>False</td>\n",
       "    </tr>\n",
       "    <tr>\n",
       "      <th>3</th>\n",
       "      <td>0.81462</td>\n",
       "      <td>0.32761</td>\n",
       "      <td>-2.58948</td>\n",
       "      <td>-9.90454</td>\n",
       "      <td>10.21894</td>\n",
       "      <td>0.28165</td>\n",
       "      <td>0.71816</td>\n",
       "      <td>0.55542</td>\n",
       "      <td>-9.96034</td>\n",
       "      <td>-1.35239</td>\n",
       "      <td>39.43638</td>\n",
       "      <td>2</td>\n",
       "      <td>False</td>\n",
       "    </tr>\n",
       "    <tr>\n",
       "      <th>4</th>\n",
       "      <td>2.02671</td>\n",
       "      <td>0.71385</td>\n",
       "      <td>-4.34367</td>\n",
       "      <td>-9.14374</td>\n",
       "      <td>10.12963</td>\n",
       "      <td>0.72507</td>\n",
       "      <td>0.43896</td>\n",
       "      <td>1.29437</td>\n",
       "      <td>-7.76422</td>\n",
       "      <td>-1.28642</td>\n",
       "      <td>99.16370</td>\n",
       "      <td>2</td>\n",
       "      <td>False</td>\n",
       "    </tr>\n",
       "  </tbody>\n",
       "</table>\n",
       "</div>"
      ],
      "text/plain": [
       "        x1       x2       x3       x4  ...      x11       x13  x7enc    x12\n",
       "0  0.81313  0.38023  5.85070 -9.18530  ... -0.62245  43.58182      2   True\n",
       "1  0.05435  0.89732  1.50829 -8.79618  ... -2.00896   3.47168      0   True\n",
       "2  0.93130  1.13181 -6.25123 -9.24025  ... -0.24137  43.43945      0  False\n",
       "3  0.81462  0.32761 -2.58948 -9.90454  ... -1.35239  39.43638      2  False\n",
       "4  2.02671  0.71385 -4.34367 -9.14374  ... -1.28642  99.16370      2  False\n",
       "\n",
       "[5 rows x 13 columns]"
      ]
     },
     "execution_count": 19,
     "metadata": {},
     "output_type": "execute_result"
    }
   ],
   "source": [
    "testM.head()"
   ]
  },
  {
   "cell_type": "code",
   "execution_count": 20,
   "metadata": {
    "colab": {
     "base_uri": "https://localhost:8080/",
     "height": 204
    },
    "id": "PAaNJ2kbL82c",
    "outputId": "a32af7a3-0f1d-4aa8-af68-fd291cb3a459"
   },
   "outputs": [
    {
     "data": {
      "text/html": [
       "<div>\n",
       "<style scoped>\n",
       "    .dataframe tbody tr th:only-of-type {\n",
       "        vertical-align: middle;\n",
       "    }\n",
       "\n",
       "    .dataframe tbody tr th {\n",
       "        vertical-align: top;\n",
       "    }\n",
       "\n",
       "    .dataframe thead th {\n",
       "        text-align: right;\n",
       "    }\n",
       "</style>\n",
       "<table border=\"1\" class=\"dataframe\">\n",
       "  <thead>\n",
       "    <tr style=\"text-align: right;\">\n",
       "      <th></th>\n",
       "      <th>x1</th>\n",
       "      <th>x2</th>\n",
       "      <th>x3</th>\n",
       "      <th>x4</th>\n",
       "      <th>x5</th>\n",
       "      <th>x6</th>\n",
       "      <th>x8</th>\n",
       "      <th>x9</th>\n",
       "      <th>x10</th>\n",
       "      <th>x11</th>\n",
       "      <th>x13</th>\n",
       "      <th>yenc</th>\n",
       "      <th>x7enc</th>\n",
       "      <th>x12</th>\n",
       "    </tr>\n",
       "  </thead>\n",
       "  <tbody>\n",
       "    <tr>\n",
       "      <th>0</th>\n",
       "      <td>1.23351</td>\n",
       "      <td>-0.16595</td>\n",
       "      <td>0.14108</td>\n",
       "      <td>-8.58171</td>\n",
       "      <td>10.48806</td>\n",
       "      <td>-0.24662</td>\n",
       "      <td>-1.13877</td>\n",
       "      <td>1.33294</td>\n",
       "      <td>-7.24812</td>\n",
       "      <td>-1.72873</td>\n",
       "      <td>61.74613</td>\n",
       "      <td>3</td>\n",
       "      <td>1</td>\n",
       "      <td>False</td>\n",
       "    </tr>\n",
       "    <tr>\n",
       "      <th>1</th>\n",
       "      <td>-0.06859</td>\n",
       "      <td>-0.03913</td>\n",
       "      <td>-5.67505</td>\n",
       "      <td>-9.02809</td>\n",
       "      <td>10.02502</td>\n",
       "      <td>-0.03694</td>\n",
       "      <td>-0.24194</td>\n",
       "      <td>-0.04031</td>\n",
       "      <td>-5.26454</td>\n",
       "      <td>1.61433</td>\n",
       "      <td>-6.26681</td>\n",
       "      <td>2</td>\n",
       "      <td>1</td>\n",
       "      <td>False</td>\n",
       "    </tr>\n",
       "    <tr>\n",
       "      <th>2</th>\n",
       "      <td>1.01218</td>\n",
       "      <td>0.32650</td>\n",
       "      <td>-6.55152</td>\n",
       "      <td>-9.33834</td>\n",
       "      <td>10.14469</td>\n",
       "      <td>0.43469</td>\n",
       "      <td>1.10164</td>\n",
       "      <td>-0.01411</td>\n",
       "      <td>-9.33047</td>\n",
       "      <td>-2.59679</td>\n",
       "      <td>47.33314</td>\n",
       "      <td>0</td>\n",
       "      <td>2</td>\n",
       "      <td>False</td>\n",
       "    </tr>\n",
       "    <tr>\n",
       "      <th>3</th>\n",
       "      <td>0.57296</td>\n",
       "      <td>-0.40369</td>\n",
       "      <td>-1.73764</td>\n",
       "      <td>-9.01203</td>\n",
       "      <td>9.86515</td>\n",
       "      <td>-0.39589</td>\n",
       "      <td>1.32041</td>\n",
       "      <td>0.94174</td>\n",
       "      <td>-6.46244</td>\n",
       "      <td>0.50173</td>\n",
       "      <td>27.77929</td>\n",
       "      <td>2</td>\n",
       "      <td>1</td>\n",
       "      <td>False</td>\n",
       "    </tr>\n",
       "    <tr>\n",
       "      <th>4</th>\n",
       "      <td>-0.08716</td>\n",
       "      <td>0.14848</td>\n",
       "      <td>-3.37625</td>\n",
       "      <td>-9.05578</td>\n",
       "      <td>10.53105</td>\n",
       "      <td>0.09952</td>\n",
       "      <td>-1.61032</td>\n",
       "      <td>-1.31704</td>\n",
       "      <td>-11.09431</td>\n",
       "      <td>-2.09815</td>\n",
       "      <td>-6.04600</td>\n",
       "      <td>1</td>\n",
       "      <td>2</td>\n",
       "      <td>False</td>\n",
       "    </tr>\n",
       "  </tbody>\n",
       "</table>\n",
       "</div>"
      ],
      "text/plain": [
       "        x1       x2       x3       x4  ...       x13  yenc  x7enc    x12\n",
       "0  1.23351 -0.16595  0.14108 -8.58171  ...  61.74613     3      1  False\n",
       "1 -0.06859 -0.03913 -5.67505 -9.02809  ...  -6.26681     2      1  False\n",
       "2  1.01218  0.32650 -6.55152 -9.33834  ...  47.33314     0      2  False\n",
       "3  0.57296 -0.40369 -1.73764 -9.01203  ...  27.77929     2      1  False\n",
       "4 -0.08716  0.14848 -3.37625 -9.05578  ...  -6.04600     1      2  False\n",
       "\n",
       "[5 rows x 14 columns]"
      ]
     },
     "execution_count": 20,
     "metadata": {},
     "output_type": "execute_result"
    }
   ],
   "source": [
    "trainM.head()"
   ]
  },
  {
   "cell_type": "code",
   "execution_count": 21,
   "metadata": {
    "colab": {
     "base_uri": "https://localhost:8080/",
     "height": 537
    },
    "id": "0Kcr9PdT_fBH",
    "outputId": "2326a511-9058-4eeb-d479-b1f86eb9ca91"
   },
   "outputs": [
    {
     "data": {
      "image/png": "[encoded data removed]",
      "text/plain": [
       "<Figure size 864x648 with 2 Axes>"
      ]
     },
     "metadata": {
      "needs_background": "light"
     },
     "output_type": "display_data"
    }
   ],
   "source": [
    "corrmat = trainM.corr()\n",
    "f, ax = plt.subplots(figsize=(12, 9))\n",
    "sns.heatmap(corrmat, vmin = -0.6 ,vmax=0.5, annot=True, square=True, fmt='.2f');"
   ]
  },
  {
   "cell_type": "markdown",
   "metadata": {
    "id": "0EUyAxIOi_cn"
   },
   "source": [
    "# Model"
   ]
  },
  {
   "cell_type": "code",
   "execution_count": 44,
   "metadata": {
    "id": "1OApiffQMzNO"
   },
   "outputs": [],
   "source": [
    "class Classifyer:\n",
    "    def __init__(self, data, test_split, fidx, lidx):\n",
    "\n",
    "    trainY, trainX = data[\"yenc\"], data.drop(\"yenc\", axis=1)\n",
    "\n",
    "    self.train_X = trainX.drop([i for i in range(fidx, lidx)]).to_numpy()\n",
    "    self.test_X = trainX.iloc[fidx:lidx].to_numpy()\n",
    "    self.train_y = trainY.drop([i for i in range(fidx, lidx)]).to_numpy()\n",
    "    self.test_y = trainY.iloc[fidx:lidx].to_numpy()\n",
    "\n",
    "    self.trainY = trainY\n",
    "    self.trainX = trainX\n",
    "\n",
    "    print(fidx, lidx)\n",
    "    print(\"Train\",np.unique(self.train_y,return_counts=True))\n",
    "    print(\"Test\",np.unique(self.test_y,return_counts=True))\n",
    "    \n",
    "\n",
    "    self.space={\n",
    "        'gamma': hp.uniform ('gamma', 0, 1),\n",
    "        'colsample_bytree' : hp.uniform('colsample_bytree', 0.5,1),\n",
    "        'max_depth': hp.uniform(\"max_depth\", 3, 10),\n",
    "        \"learning_rate\": hp.uniform(\"learning_rate\", 0.01,1),\n",
    "        'min_child_weight' : hp.uniform('min_child_weight', 2, 5),\n",
    "        \"subsample\": hp.uniform(\"subsample\", 0,1),\n",
    "        'n_estimators': 200,\n",
    "        'seed': 0,\n",
    "        'reg_alpha' : hp.uniform('reg_alpha', 0,10),\n",
    "        }\n",
    "\n",
    "    self.hyperparams = None\n",
    "    self.accuracy = None\n",
    "\n",
    "    trials = Trials()\n",
    "    best_hyperparams = fmin(fn = self.learning,\n",
    "                        space = self.space,\n",
    "                        algo = tpe.suggest,\n",
    "                        max_evals = 50,\n",
    "                        trials = trials)\n",
    "\n",
    "    best_hyperparams[\"seed\"], best_hyperparams[\"n_estimators\"] = 0, 200\n",
    "\n",
    "    tmp = self.learning(best_hyperparams)\n",
    "    self.model = tmp[\"model\"]\n",
    "    self.accuracy = -tmp[\"loss\"]\n",
    "    self.hyperparams = best_hyperparams\n",
    "\n",
    "  def returner(self):\n",
    "    return self.model, self.accuracy, self.hyperparams\n",
    "    \n",
    "  def learning(self,space):\n",
    "    \"\"\"xgb_m = XGBClassifier(n_estimators = space['n_estimators'], \n",
    "                        learning_rate = space[\"learning_rate\"],\n",
    "                        max_depth = int(space['max_depth']), \n",
    "                        gamma = space['gamma'],\n",
    "                        reg_alpha = space['reg_alpha'],\n",
    "                        min_child_weight= space['min_child_weight'],\n",
    "                        seed = space[\"seed\"])\"\"\"\n",
    "\n",
    "    xgb_m = XGBClassifier(n_estimators = space['n_estimators'], \n",
    "                        learning_rate = space[\"learning_rate\"],\n",
    "                        max_depth = int(space['max_depth']), \n",
    "                        min_child_weight= space['min_child_weight'],\n",
    "                        seed = space[\"seed\"],\n",
    "                        gamma = space['gamma'],\n",
    "                        reg_alpha = space['reg_alpha'],\n",
    "                        colsample_bytree = space['colsample_bytree'],\n",
    "                        subsample = space[\"subsample\"])\n",
    "    \n",
    "    classes_weights = class_weight.compute_sample_weight(\n",
    "    class_weight='balanced',\n",
    "    y=self.train_y)\n",
    "    \n",
    "    xgb_m.fit(self.train_X, self.train_y, \n",
    "              sample_weight = classes_weights)\n",
    "\n",
    "    accuracies = cross_val_score(estimator = xgb_m, X = self.trainX, y = self.trainY, cv = 10)\n",
    "    accuracy = accuracies.mean()\n",
    "    #pred = xgb_m.predict(self.test_X)\n",
    "    #accuracy = accuracy_score(self.test_y, pred)\n",
    "    return {'loss': -accuracy, 'status': STATUS_OK , \"model\": xgb_m}    \n",
    "\n",
    "    \n",
    "    \n"
   ]
  },
  {
   "cell_type": "code",
   "execution_count": 45,
   "metadata": {
    "colab": {
     "base_uri": "https://localhost:8080/"
    },
    "id": "nO8JjHGiMxaE",
    "outputId": "872f440e-e28e-4773-bda0-72f12d2784cd"
   },
   "outputs": [
    {
     "name": "stdout",
     "output_type": "stream",
     "text": [
      "Iter 0\n",
      "0 198\n",
      "Train (array([0, 1, 2, 3]), array([ 73, 219, 272, 233]))\n",
      "Test (array([0, 1, 2, 3]), array([22, 49, 70, 57]))\n",
      "100%|██████████| 50/50 [07:08<00:00,  8.57s/it, best loss: -0.6210404040404041]\n",
      "Iter 1\n",
      "199 397\n",
      "Train (array([0, 1, 2, 3]), array([ 77, 203, 289, 228]))\n",
      "Test (array([0, 1, 2, 3]), array([18, 65, 53, 62]))\n",
      "100%|██████████| 50/50 [05:41<00:00,  6.83s/it, best loss: -0.6170707070707071]\n",
      "Iter 2\n",
      "398 596\n",
      "Train (array([0, 1, 2, 3]), array([ 74, 221, 265, 237]))\n",
      "Test (array([0, 1, 2, 3]), array([21, 47, 77, 53]))\n",
      "100%|██████████| 50/50 [05:54<00:00,  7.10s/it, best loss: -0.626090909090909]\n",
      "Iter 3\n",
      "597 795\n",
      "Train (array([0, 1, 2, 3]), array([ 77, 212, 274, 234]))\n",
      "Test (array([0, 1, 2, 3]), array([18, 56, 68, 56]))\n",
      "100%|██████████| 50/50 [05:53<00:00,  7.07s/it, best loss: -0.6190808080808081]\n",
      "Iter 4\n",
      "796 994\n",
      "Train (array([0, 1, 2, 3]), array([ 79, 218, 270, 230]))\n",
      "Test (array([0, 1, 2, 3]), array([16, 50, 72, 60]))\n",
      "100%|██████████| 50/50 [06:13<00:00,  7.46s/it, best loss: -0.6221010101010102]\n"
     ]
    }
   ],
   "source": [
    "N = 5\n",
    "tests = np.array_split(trainM, N)\n",
    "models = list()\n",
    "accs = list()\n",
    "hypers = list()\n",
    "for i in range(N):\n",
    "  print(\"Iter\", i)\n",
    "  for j in range(1):\n",
    "    c = Classifyer(trainM, 0.1, tests[i].first_valid_index(),tests[i].last_valid_index())\n",
    "    model, acc, hyper = c.returner()\n",
    "    accs.append(acc)\n",
    "    hypers.append(hyper)\n",
    "    models.append(model)"
   ]
  },
  {
   "cell_type": "code",
   "execution_count": 46,
   "metadata": {
    "colab": {
     "base_uri": "https://localhost:8080/"
    },
    "id": "mOAE3fqIDOr-",
    "outputId": "4310f9ab-57b3-45ea-c9b7-6a9b8bc4272c"
   },
   "outputs": [
    {
     "name": "stdout",
     "output_type": "stream",
     "text": [
      "ACC: 0.8984924623115578\n",
      "ACC: 0.8994974874371859\n",
      "ACC: 0.7728643216080402\n",
      "ACC: 0.914572864321608\n",
      "ACC: 0.7608040201005025\n"
     ]
    }
   ],
   "source": [
    "trainY, trainX = trainM[\"yenc\"], trainM.drop(\"yenc\", axis=1)\n",
    "T = 2\n",
    "for i in range(N):\n",
    "  \n",
    "  space = hypers[i]\n",
    "  model = XGBClassifier(n_estimators = space['n_estimators'], \n",
    "                        learning_rate = space[\"learning_rate\"],\n",
    "                        min_child_weight= space['min_child_weight'],\n",
    "                        seed = space[\"seed\"],\n",
    "                        gamma = space['gamma'],\n",
    "                        colsample_bytree = space['colsample_bytree'])\n",
    "  \n",
    "  model = models[i]\n",
    "  pred = model.predict(trainX.to_numpy())\n",
    "  accuracy = accuracy_score(trainY.to_numpy(), pred)\n",
    "  print(\"ACC:\", accuracy)\n",
    "  \"\"\"score = cross_val_score(model, trainX.to_numpy(), trainY.to_numpy(), cv = T, scoring = \"accuracy\")\n",
    "  print(\"\\n\")\n",
    "  print(score)\n",
    "  print(\"Accuracy:\",score.mean())\n",
    "  print(\"Std\",score.std())\"\"\""
   ]
  },
  {
   "cell_type": "code",
   "execution_count": 60,
   "metadata": {
    "colab": {
     "base_uri": "https://localhost:8080/"
    },
    "id": "gqCbp6KMLj9n",
    "outputId": "d43ef903-702f-4845-d3b9-2b159c1e5e2d"
   },
   "outputs": [
    {
     "name": "stdout",
     "output_type": "stream",
     "text": [
      "Model 0\n",
      "Min: 0.6060606060606061\n",
      "Mean 0.8979797979797979\n",
      "Model 1\n",
      "Min: 0.6414141414141414\n",
      "Mean 0.898989898989899\n",
      "Model 2\n",
      "Min: 0.5353535353535354\n",
      "Mean 0.7717171717171717\n",
      "Model 3\n",
      "Min: 0.6464646464646465\n",
      "Mean 0.9141414141414141\n",
      "Model 4\n",
      "Min: 0.6060606060606061\n",
      "Mean 0.7616161616161616\n"
     ]
    }
   ],
   "source": [
    "tests = np.array_split(trainM, N)\n",
    "for i in range(N):\n",
    "  avg = list()\n",
    "  for j in range(N):\n",
    "    fidx , lidx = tests[j].first_valid_index(),tests[j].last_valid_index()\n",
    "    pred = models[i].predict(trainX.iloc[fidx:lidx].to_numpy())\n",
    "    accuracy = accuracy_score(trainY.iloc[fidx:lidx].to_numpy(), pred)\n",
    "    avg.append(accuracy)\n",
    "    #print(\"Model\", i,\"X\", j)\n",
    "    #print(\"I:\",fidx,lidx,\" Acc:\",accuracy)\n",
    "  print(\"Model\", i)\n",
    "  print(\"Min:\", min(avg))\n",
    "  print(\"Mean\", sum(avg)/5)"
   ]
  },
  {
   "cell_type": "code",
   "execution_count": 55,
   "metadata": {
    "id": "GaaPH6rw6Eui"
   },
   "outputs": [],
   "source": [
    "import pickle\n",
    "pickle.dump(models[3], open(\"pima.pickle.dat\", \"wb\"))\n",
    "loaded_model = pickle.load(open(\"pima.pickle.dat\", \"rb\"))"
   ]
  },
  {
   "cell_type": "code",
   "execution_count": 56,
   "metadata": {
    "id": "c43e4s08JTjm"
   },
   "outputs": [],
   "source": [
    "loaded_model = pickle.load(open(\"pima.pickle.dat\", \"rb\"))"
   ]
  },
  {
   "cell_type": "code",
   "execution_count": 57,
   "metadata": {
    "colab": {
     "base_uri": "https://localhost:8080/"
    },
    "id": "n3ybei1ZJeGw",
    "outputId": "d34b84cc-1377-4413-a05d-10ec690fe092"
   },
   "outputs": [
    {
     "name": "stdout",
     "output_type": "stream",
     "text": [
      "XGBClassifier(base_score=0.5, booster='gbtree', colsample_bylevel=1,\n",
      "              colsample_bynode=1, colsample_bytree=0.9210754002686283,\n",
      "              gamma=0.45408850458904904, learning_rate=0.4622584476408178,\n",
      "              max_delta_step=0, max_depth=4, min_child_weight=4.860250726784588,\n",
      "              missing=None, n_estimators=200, n_jobs=1, nthread=None,\n",
      "              objective='multi:softprob', random_state=0,\n",
      "              reg_alpha=1.366462371014041, reg_lambda=1, scale_pos_weight=1,\n",
      "              seed=0, silent=None, subsample=0.9287356570221919, verbosity=1)\n"
     ]
    }
   ],
   "source": [
    "print(models[3])"
   ]
  },
  {
   "cell_type": "code",
   "execution_count": 61,
   "metadata": {
    "id": "j2rAV2nIJiez"
   },
   "outputs": [],
   "source": [
    "test_pred = models[3].predict(testM.to_numpy())"
   ]
  },
  {
   "cell_type": "code",
   "execution_count": 69,
   "metadata": {
    "id": "QaqNgNMBLP_O"
   },
   "outputs": [],
   "source": [
    "_, disttest = np.unique(test_pred, return_counts = True)"
   ]
  },
  {
   "cell_type": "code",
   "execution_count": 70,
   "metadata": {
    "id": "cHp7U-xIMJCF"
   },
   "outputs": [],
   "source": [
    "_, disttrain = np.unique(trainY, return_counts = True)"
   ]
  },
  {
   "cell_type": "code",
   "execution_count": 73,
   "metadata": {
    "colab": {
     "base_uri": "https://localhost:8080/"
    },
    "id": "7x25AU_wHVjx",
    "outputId": "a9ac4ef6-85c9-4818-de6b-e86ba8e2b21c"
   },
   "outputs": [
    {
     "data": {
      "text/plain": [
       "array([0.1247, 0.2224, 0.3705, 0.2824])"
      ]
     },
     "execution_count": 73,
     "metadata": {},
     "output_type": "execute_result"
    }
   ],
   "source": [
    "disttest/len(test_pred)"
   ]
  },
  {
   "cell_type": "code",
   "execution_count": 74,
   "metadata": {
    "colab": {
     "base_uri": "https://localhost:8080/"
    },
    "id": "64VJFR3sHgc5",
    "outputId": "c948a58f-bf9c-42b4-e302-c34fca7a8e30"
   },
   "outputs": [
    {
     "data": {
      "text/plain": [
       "array([0.09547739, 0.26934673, 0.34371859, 0.29145729])"
      ]
     },
     "execution_count": 74,
     "metadata": {},
     "output_type": "execute_result"
    }
   ],
   "source": [
    "disttrain/len(trainY)"
   ]
  },
  {
   "cell_type": "code",
   "execution_count": 76,
   "metadata": {
    "colab": {
     "base_uri": "https://localhost:8080/"
    },
    "id": "6cJY2wieH9nu",
    "outputId": "4e1e893c-b5b3-4c74-a90b-6a022fa899fc"
   },
   "outputs": [
    {
     "data": {
      "text/plain": [
       "{'x7': {'Erik Sven Fernström': 0,\n",
       "  'Erik Sven Williams': 1,\n",
       "  'Jerry Fernström': 2,\n",
       "  'Jerry Williams': 3,\n",
       "  'Jerry från Solna': 4},\n",
       " 'y': {'Atsuto': 0, 'Bob': 1, 'Jorg': 2, 'Shoogee': 3}}"
      ]
     },
     "execution_count": 76,
     "metadata": {},
     "output_type": "execute_result"
    }
   ],
   "source": [
    "encoder"
   ]
  },
  {
   "cell_type": "code",
   "execution_count": 77,
   "metadata": {
    "id": "O94PinHwHpsV"
   },
   "outputs": [],
   "source": [
    "test_pred_new = list()\n",
    "for i in range(len(test_pred)):\n",
    "  if test_pred[i] == 0:\n",
    "    test_pred_new.append('Atsuto')\n",
    "  if test_pred[i] == 1:\n",
    "    test_pred_new.append('Bob')\n",
    "  if test_pred[i] == 2:\n",
    "    test_pred_new.append('Jorg')\n",
    "  if test_pred[i] == 3:\n",
    "    test_pred_new.append('Shoogee')"
   ]
  },
  {
   "cell_type": "code",
   "execution_count": 81,
   "metadata": {
    "colab": {
     "base_uri": "https://localhost:8080/"
    },
    "id": "p3O4D8D7JDTm",
    "outputId": "f4223046-d7a7-4a4c-e438-1a460d5116b8"
   },
   "outputs": [
    {
     "data": {
      "text/plain": [
       "(array(['Atsuto', 'Bob', 'Jorg', 'Shoogee'], dtype='<U7'),\n",
       " array([1247, 2224, 3705, 2824]))"
      ]
     },
     "execution_count": 81,
     "metadata": {},
     "output_type": "execute_result"
    }
   ],
   "source": [
    "np.unique(np.asarray(test_pred_new), return_counts=True)"
   ]
  },
  {
   "cell_type": "code",
   "execution_count": 82,
   "metadata": {
    "colab": {
     "base_uri": "https://localhost:8080/"
    },
    "id": "qTIeJOKcJExW",
    "outputId": "6f720704-a79e-4000-aa74-08db8c1d0742"
   },
   "outputs": [
    {
     "data": {
      "text/plain": [
       "(array([0, 1, 2, 3]), array([1247, 2224, 3705, 2824]))"
      ]
     },
     "execution_count": 82,
     "metadata": {},
     "output_type": "execute_result"
    }
   ],
   "source": [
    "np.unique(test_pred, return_counts=True)"
   ]
  },
  {
   "cell_type": "code",
   "execution_count": 90,
   "metadata": {
    "id": "l1faXhkHJl8D"
   },
   "outputs": [],
   "source": [
    "np.savetxt(\"result.txt\", test_pred_new, fmt = \"%s\")"
   ]
  },
  {
   "cell_type": "code",
   "execution_count": 94,
   "metadata": {
    "id": "_7Uvdm-8LI5X"
   },
   "outputs": [],
   "source": [
    "truer = np.loadtxt(\"result.txt\",dtype=\"str\") == test_pred_new"
   ]
  },
  {
   "cell_type": "code",
   "execution_count": 96,
   "metadata": {
    "colab": {
     "base_uri": "https://localhost:8080/"
    },
    "id": "JloFTgdAMMNA",
    "outputId": "5b279535-0480-49bb-e3d9-135a97047184"
   },
   "outputs": [
    {
     "data": {
      "text/plain": [
       "array([ True])"
      ]
     },
     "execution_count": 96,
     "metadata": {},
     "output_type": "execute_result"
    }
   ],
   "source": [
    "np.unique(truer)"
   ]
  },
  {
   "cell_type": "code",
   "execution_count": null,
   "metadata": {
    "id": "Pwl3uY3xNFnZ"
   },
   "outputs": [],
   "source": []
  }
 ],
 "metadata": {
  "colab": {
   "name": "challenge.ipynb",
   "provenance": []
  },
  "kernelspec": {
   "display_name": "Python 3",
   "language": "python",
   "name": "python3"
  },
  "language_info": {
   "codemirror_mode": {
    "name": "ipython",
    "version": 3
   },
   "file_extension": ".py",
   "mimetype": "text/x-python",
   "name": "python",
   "nbconvert_exporter": "python",
   "pygments_lexer": "ipython3",
   "version": "3.9.2"
  }
 },
 "nbformat": 4,
 "nbformat_minor": 1
}
