{
 "cells": [
  {
   "cell_type": "code",
   "execution_count": 1,
   "id": "romance-constitution",
   "metadata": {},
   "outputs": [],
   "source": [
    "import pandas as pd\n",
    "import numpy as np\n",
    "import matplotlib.pyplot as plt\n",
    "import seaborn as sns"
   ]
  },
  {
   "cell_type": "markdown",
   "id": "competitive-fitness",
   "metadata": {},
   "source": [
    "## Data manipulation and research"
   ]
  },
  {
   "cell_type": "code",
   "execution_count": 2,
   "id": "sitting-export",
   "metadata": {},
   "outputs": [],
   "source": [
    "train = pd.read_csv(\"TrainOnMe-2.csv\")\n",
    "test = pd.read_csv(\"EvaluateOnMe-2.csv\")"
   ]
  },
  {
   "cell_type": "code",
   "execution_count": 3,
   "id": "valid-disorder",
   "metadata": {},
   "outputs": [
    {
     "name": "stdout",
     "output_type": "stream",
     "text": [
      "134 https://youtu.be/74TDvzZcHPw\n",
      "581 Det är då som det stora vemodet rullar in\n",
      "582 Och från havet blåser en isande\n",
      "803 Den här är felt. Darfor erase it.\n"
     ]
    }
   ],
   "source": [
    "for i, row in train[\"Unnamed: 0\"].iteritems():\n",
    "    try:\n",
    "        row = int(row)\n",
    "    except:\n",
    "        print(i, row)"
   ]
  },
  {
   "cell_type": "code",
   "execution_count": 4,
   "id": "opened-capability",
   "metadata": {},
   "outputs": [],
   "source": [
    "train = train.drop(\"Unnamed: 0\", axis = 1)"
   ]
  },
  {
   "cell_type": "code",
   "execution_count": 5,
   "id": "random-playback",
   "metadata": {
    "scrolled": true
   },
   "outputs": [
    {
     "data": {
      "text/plain": [
       "(1004, 14)"
      ]
     },
     "execution_count": 5,
     "metadata": {},
     "output_type": "execute_result"
    }
   ],
   "source": [
    "train.shape"
   ]
  },
  {
   "cell_type": "code",
   "execution_count": 6,
   "id": "useful-spouse",
   "metadata": {},
   "outputs": [
    {
     "data": {
      "text/plain": [
       "(8, 14)"
      ]
     },
     "execution_count": 6,
     "metadata": {},
     "output_type": "execute_result"
    }
   ],
   "source": [
    "train[train.isnull().any(axis=1)].shape"
   ]
  },
  {
   "cell_type": "code",
   "execution_count": 7,
   "id": "every-norfolk",
   "metadata": {},
   "outputs": [
    {
     "data": {
      "text/plain": [
       "Jorg              343\n",
       "Shoogee           290\n",
       "Bob               268\n",
       "Atsuto             95\n",
       "NaN                 7\n",
       " gråkall vind.      1\n",
       "Name: y, dtype: int64"
      ]
     },
     "execution_count": 7,
     "metadata": {},
     "output_type": "execute_result"
    }
   ],
   "source": [
    "train[\"y\"].value_counts(dropna=False)"
   ]
  },
  {
   "cell_type": "code",
   "execution_count": 8,
   "id": "canadian-essay",
   "metadata": {},
   "outputs": [],
   "source": [
    "train.dropna(inplace=True)"
   ]
  },
  {
   "cell_type": "code",
   "execution_count": 9,
   "id": "variable-adobe",
   "metadata": {},
   "outputs": [
    {
     "data": {
      "text/html": [
       "<div>\n",
       "<style scoped>\n",
       "    .dataframe tbody tr th:only-of-type {\n",
       "        vertical-align: middle;\n",
       "    }\n",
       "\n",
       "    .dataframe tbody tr th {\n",
       "        vertical-align: top;\n",
       "    }\n",
       "\n",
       "    .dataframe thead th {\n",
       "        text-align: right;\n",
       "    }\n",
       "</style>\n",
       "<table border=\"1\" class=\"dataframe\">\n",
       "  <thead>\n",
       "    <tr style=\"text-align: right;\">\n",
       "      <th></th>\n",
       "      <th>y</th>\n",
       "      <th>x1</th>\n",
       "      <th>x2</th>\n",
       "      <th>x3</th>\n",
       "      <th>x4</th>\n",
       "      <th>x5</th>\n",
       "      <th>x6</th>\n",
       "      <th>x7</th>\n",
       "      <th>x8</th>\n",
       "      <th>x9</th>\n",
       "      <th>x10</th>\n",
       "      <th>x11</th>\n",
       "      <th>x12</th>\n",
       "      <th>x13</th>\n",
       "    </tr>\n",
       "  </thead>\n",
       "  <tbody>\n",
       "    <tr>\n",
       "      <th>263</th>\n",
       "      <td>Shoogee</td>\n",
       "      <td>0.66785</td>\n",
       "      <td>0.08633</td>\n",
       "      <td>-2.12534</td>\n",
       "      <td>-9.13844</td>\n",
       "      <td>10.69676</td>\n",
       "      <td>0.04275</td>\n",
       "      <td>Jerry Fernström</td>\n",
       "      <td>0.16830</td>\n",
       "      <td>-0.30892</td>\n",
       "      <td>-7.63603</td>\n",
       "      <td>-2.05398</td>\n",
       "      <td>False</td>\n",
       "      <td>32.32980</td>\n",
       "    </tr>\n",
       "    <tr>\n",
       "      <th>264</th>\n",
       "      <td>Bob</td>\n",
       "      <td>1.01414</td>\n",
       "      <td>0.69946</td>\n",
       "      <td>-3.43084</td>\n",
       "      <td>-9.13306</td>\n",
       "      <td>10.63000</td>\n",
       "      <td>0.74978</td>\n",
       "      <td>Jerry Fernström</td>\n",
       "      <td>2.32421</td>\n",
       "      <td>-0.31321</td>\n",
       "      <td>-8.66807</td>\n",
       "      <td>-1.54988</td>\n",
       "      <td>False</td>\n",
       "      <td>48.99139</td>\n",
       "    </tr>\n",
       "    <tr>\n",
       "      <th>265</th>\n",
       "      <td>Jorg</td>\n",
       "      <td>0.88362</td>\n",
       "      <td>0.12864</td>\n",
       "      <td>-4.91248</td>\n",
       "      <td>-9.41917</td>\n",
       "      <td>10.04934</td>\n",
       "      <td>https://youtu.be/0q_Bbd2SGtY</td>\n",
       "      <td>Jerry Fernström</td>\n",
       "      <td>0.60795</td>\n",
       "      <td>2.31590</td>\n",
       "      <td>-5.25392</td>\n",
       "      <td>-1.40652</td>\n",
       "      <td>False</td>\n",
       "      <td>41.72493</td>\n",
       "    </tr>\n",
       "  </tbody>\n",
       "</table>\n",
       "</div>"
      ],
      "text/plain": [
       "           y       x1       x2       x3       x4        x5  \\\n",
       "263  Shoogee  0.66785  0.08633 -2.12534 -9.13844  10.69676   \n",
       "264      Bob  1.01414  0.69946 -3.43084 -9.13306  10.63000   \n",
       "265     Jorg  0.88362  0.12864 -4.91248 -9.41917  10.04934   \n",
       "\n",
       "                               x6               x7       x8       x9      x10  \\\n",
       "263                       0.04275  Jerry Fernström  0.16830 -0.30892 -7.63603   \n",
       "264                       0.74978  Jerry Fernström  2.32421 -0.31321 -8.66807   \n",
       "265  https://youtu.be/0q_Bbd2SGtY  Jerry Fernström  0.60795  2.31590 -5.25392   \n",
       "\n",
       "         x11    x12       x13  \n",
       "263 -2.05398  False  32.32980  \n",
       "264 -1.54988  False  48.99139  \n",
       "265 -1.40652  False  41.72493  "
      ]
     },
     "execution_count": 9,
     "metadata": {},
     "output_type": "execute_result"
    }
   ],
   "source": [
    "train.iloc[262:265]"
   ]
  },
  {
   "cell_type": "code",
   "execution_count": 10,
   "id": "isolated-department",
   "metadata": {},
   "outputs": [],
   "source": [
    "train.drop(265, inplace= True)"
   ]
  },
  {
   "cell_type": "code",
   "execution_count": 11,
   "id": "naughty-extraction",
   "metadata": {},
   "outputs": [
    {
     "data": {
      "text/plain": [
       "(995, 14)"
      ]
     },
     "execution_count": 11,
     "metadata": {},
     "output_type": "execute_result"
    }
   ],
   "source": [
    "train.shape"
   ]
  },
  {
   "cell_type": "code",
   "execution_count": 12,
   "id": "spanish-husband",
   "metadata": {},
   "outputs": [],
   "source": [
    "train = train.astype({\"x6\": float})"
   ]
  },
  {
   "cell_type": "code",
   "execution_count": 13,
   "id": "other-cameroon",
   "metadata": {},
   "outputs": [],
   "source": [
    "encoder = dict()\n",
    "from sklearn.preprocessing import LabelEncoder\n",
    "labelencoder = LabelEncoder()\n",
    "\n",
    "for column in train.columns:\n",
    "    if train[column].dtype == \"object\":\n",
    "        train[column + \"enc\"] = labelencoder.fit_transform(train[column])\n",
    "        encoder[column] = dict(zip(labelencoder.classes_, labelencoder.transform(labelencoder.classes_)))"
   ]
  },
  {
   "cell_type": "code",
   "execution_count": 14,
   "id": "portuguese-summit",
   "metadata": {},
   "outputs": [
    {
     "data": {
      "text/html": [
       "<div>\n",
       "<style scoped>\n",
       "    .dataframe tbody tr th:only-of-type {\n",
       "        vertical-align: middle;\n",
       "    }\n",
       "\n",
       "    .dataframe tbody tr th {\n",
       "        vertical-align: top;\n",
       "    }\n",
       "\n",
       "    .dataframe thead th {\n",
       "        text-align: right;\n",
       "    }\n",
       "</style>\n",
       "<table border=\"1\" class=\"dataframe\">\n",
       "  <thead>\n",
       "    <tr style=\"text-align: right;\">\n",
       "      <th></th>\n",
       "      <th>y</th>\n",
       "      <th>x1</th>\n",
       "      <th>x2</th>\n",
       "      <th>x3</th>\n",
       "      <th>x4</th>\n",
       "      <th>x5</th>\n",
       "      <th>x6</th>\n",
       "      <th>x7</th>\n",
       "      <th>x8</th>\n",
       "      <th>x9</th>\n",
       "      <th>x10</th>\n",
       "      <th>x11</th>\n",
       "      <th>x12</th>\n",
       "      <th>x13</th>\n",
       "      <th>yenc</th>\n",
       "      <th>x7enc</th>\n",
       "      <th>x12enc</th>\n",
       "    </tr>\n",
       "  </thead>\n",
       "  <tbody>\n",
       "    <tr>\n",
       "      <th>0</th>\n",
       "      <td>Shoogee</td>\n",
       "      <td>2.20274</td>\n",
       "      <td>-0.04690</td>\n",
       "      <td>-4.69816</td>\n",
       "      <td>-9.07800</td>\n",
       "      <td>10.13118</td>\n",
       "      <td>-0.08900</td>\n",
       "      <td>Erik Sven Williams</td>\n",
       "      <td>0.54191</td>\n",
       "      <td>0.52041</td>\n",
       "      <td>-5.66990</td>\n",
       "      <td>-0.93831</td>\n",
       "      <td>False</td>\n",
       "      <td>107.78776</td>\n",
       "      <td>3</td>\n",
       "      <td>1</td>\n",
       "      <td>0</td>\n",
       "    </tr>\n",
       "    <tr>\n",
       "      <th>1</th>\n",
       "      <td>Bob</td>\n",
       "      <td>2.01516</td>\n",
       "      <td>-0.12177</td>\n",
       "      <td>-4.24286</td>\n",
       "      <td>-9.79772</td>\n",
       "      <td>9.98259</td>\n",
       "      <td>-0.01485</td>\n",
       "      <td>Erik Sven Williams</td>\n",
       "      <td>-1.21671</td>\n",
       "      <td>1.18749</td>\n",
       "      <td>-9.25300</td>\n",
       "      <td>-1.21892</td>\n",
       "      <td>False</td>\n",
       "      <td>98.63633</td>\n",
       "      <td>1</td>\n",
       "      <td>1</td>\n",
       "      <td>0</td>\n",
       "    </tr>\n",
       "    <tr>\n",
       "      <th>2</th>\n",
       "      <td>Bob</td>\n",
       "      <td>0.02598</td>\n",
       "      <td>-0.24764</td>\n",
       "      <td>0.39977</td>\n",
       "      <td>-9.54167</td>\n",
       "      <td>10.53391</td>\n",
       "      <td>-0.27978</td>\n",
       "      <td>Erik Sven Williams</td>\n",
       "      <td>-2.39764</td>\n",
       "      <td>1.95167</td>\n",
       "      <td>-9.46447</td>\n",
       "      <td>-2.68910</td>\n",
       "      <td>True</td>\n",
       "      <td>1.49880</td>\n",
       "      <td>1</td>\n",
       "      <td>1</td>\n",
       "      <td>1</td>\n",
       "    </tr>\n",
       "    <tr>\n",
       "      <th>3</th>\n",
       "      <td>Jorg</td>\n",
       "      <td>0.39778</td>\n",
       "      <td>-0.83343</td>\n",
       "      <td>-2.14272</td>\n",
       "      <td>-9.06550</td>\n",
       "      <td>10.15047</td>\n",
       "      <td>-0.84583</td>\n",
       "      <td>Jerry från Solna</td>\n",
       "      <td>0.09768</td>\n",
       "      <td>0.92010</td>\n",
       "      <td>-11.17952</td>\n",
       "      <td>0.59877</td>\n",
       "      <td>False</td>\n",
       "      <td>18.81785</td>\n",
       "      <td>2</td>\n",
       "      <td>4</td>\n",
       "      <td>0</td>\n",
       "    </tr>\n",
       "    <tr>\n",
       "      <th>4</th>\n",
       "      <td>Jorg</td>\n",
       "      <td>1.25346</td>\n",
       "      <td>0.09320</td>\n",
       "      <td>1.54063</td>\n",
       "      <td>-9.33171</td>\n",
       "      <td>9.92016</td>\n",
       "      <td>0.09889</td>\n",
       "      <td>Jerry Fernström</td>\n",
       "      <td>-0.46134</td>\n",
       "      <td>0.16381</td>\n",
       "      <td>-12.07755</td>\n",
       "      <td>1.09106</td>\n",
       "      <td>True</td>\n",
       "      <td>63.44326</td>\n",
       "      <td>2</td>\n",
       "      <td>2</td>\n",
       "      <td>1</td>\n",
       "    </tr>\n",
       "    <tr>\n",
       "      <th>...</th>\n",
       "      <td>...</td>\n",
       "      <td>...</td>\n",
       "      <td>...</td>\n",
       "      <td>...</td>\n",
       "      <td>...</td>\n",
       "      <td>...</td>\n",
       "      <td>...</td>\n",
       "      <td>...</td>\n",
       "      <td>...</td>\n",
       "      <td>...</td>\n",
       "      <td>...</td>\n",
       "      <td>...</td>\n",
       "      <td>...</td>\n",
       "      <td>...</td>\n",
       "      <td>...</td>\n",
       "      <td>...</td>\n",
       "      <td>...</td>\n",
       "    </tr>\n",
       "    <tr>\n",
       "      <th>999</th>\n",
       "      <td>Shoogee</td>\n",
       "      <td>2.96657</td>\n",
       "      <td>0.44602</td>\n",
       "      <td>-6.39121</td>\n",
       "      <td>-8.92726</td>\n",
       "      <td>10.59103</td>\n",
       "      <td>0.38746</td>\n",
       "      <td>Jerry Fernström</td>\n",
       "      <td>0.69268</td>\n",
       "      <td>-0.58989</td>\n",
       "      <td>-10.53091</td>\n",
       "      <td>0.20014</td>\n",
       "      <td>False</td>\n",
       "      <td>145.13294</td>\n",
       "      <td>3</td>\n",
       "      <td>2</td>\n",
       "      <td>0</td>\n",
       "    </tr>\n",
       "    <tr>\n",
       "      <th>1000</th>\n",
       "      <td>Shoogee</td>\n",
       "      <td>0.20434</td>\n",
       "      <td>-0.67408</td>\n",
       "      <td>-4.12029</td>\n",
       "      <td>-9.00304</td>\n",
       "      <td>10.36168</td>\n",
       "      <td>-0.60313</td>\n",
       "      <td>Erik Sven Williams</td>\n",
       "      <td>0.22119</td>\n",
       "      <td>-1.57906</td>\n",
       "      <td>-9.80819</td>\n",
       "      <td>-2.42307</td>\n",
       "      <td>False</td>\n",
       "      <td>8.15681</td>\n",
       "      <td>3</td>\n",
       "      <td>1</td>\n",
       "      <td>0</td>\n",
       "    </tr>\n",
       "    <tr>\n",
       "      <th>1001</th>\n",
       "      <td>Jorg</td>\n",
       "      <td>0.72078</td>\n",
       "      <td>0.74335</td>\n",
       "      <td>-0.63288</td>\n",
       "      <td>-8.94255</td>\n",
       "      <td>10.07998</td>\n",
       "      <td>0.82252</td>\n",
       "      <td>Jerry Fernström</td>\n",
       "      <td>1.49456</td>\n",
       "      <td>2.23215</td>\n",
       "      <td>-7.26243</td>\n",
       "      <td>0.69045</td>\n",
       "      <td>True</td>\n",
       "      <td>35.72234</td>\n",
       "      <td>2</td>\n",
       "      <td>2</td>\n",
       "      <td>1</td>\n",
       "    </tr>\n",
       "    <tr>\n",
       "      <th>1002</th>\n",
       "      <td>Jorg</td>\n",
       "      <td>0.34186</td>\n",
       "      <td>0.10278</td>\n",
       "      <td>-0.39189</td>\n",
       "      <td>-9.05518</td>\n",
       "      <td>9.98665</td>\n",
       "      <td>0.04969</td>\n",
       "      <td>Jerry Fernström</td>\n",
       "      <td>-0.25843</td>\n",
       "      <td>0.24975</td>\n",
       "      <td>-9.88372</td>\n",
       "      <td>0.47915</td>\n",
       "      <td>False</td>\n",
       "      <td>16.89682</td>\n",
       "      <td>2</td>\n",
       "      <td>2</td>\n",
       "      <td>0</td>\n",
       "    </tr>\n",
       "    <tr>\n",
       "      <th>1003</th>\n",
       "      <td>Jorg</td>\n",
       "      <td>0.57296</td>\n",
       "      <td>-0.40369</td>\n",
       "      <td>-1.73764</td>\n",
       "      <td>-9.01203</td>\n",
       "      <td>9.86515</td>\n",
       "      <td>-0.39589</td>\n",
       "      <td>Erik Sven Williams</td>\n",
       "      <td>1.32041</td>\n",
       "      <td>0.94174</td>\n",
       "      <td>-6.46244</td>\n",
       "      <td>0.50173</td>\n",
       "      <td>False</td>\n",
       "      <td>27.77929</td>\n",
       "      <td>2</td>\n",
       "      <td>1</td>\n",
       "      <td>0</td>\n",
       "    </tr>\n",
       "  </tbody>\n",
       "</table>\n",
       "<p>995 rows × 17 columns</p>\n",
       "</div>"
      ],
      "text/plain": [
       "            y       x1       x2       x3       x4        x5       x6  \\\n",
       "0     Shoogee  2.20274 -0.04690 -4.69816 -9.07800  10.13118 -0.08900   \n",
       "1         Bob  2.01516 -0.12177 -4.24286 -9.79772   9.98259 -0.01485   \n",
       "2         Bob  0.02598 -0.24764  0.39977 -9.54167  10.53391 -0.27978   \n",
       "3        Jorg  0.39778 -0.83343 -2.14272 -9.06550  10.15047 -0.84583   \n",
       "4        Jorg  1.25346  0.09320  1.54063 -9.33171   9.92016  0.09889   \n",
       "...       ...      ...      ...      ...      ...       ...      ...   \n",
       "999   Shoogee  2.96657  0.44602 -6.39121 -8.92726  10.59103  0.38746   \n",
       "1000  Shoogee  0.20434 -0.67408 -4.12029 -9.00304  10.36168 -0.60313   \n",
       "1001     Jorg  0.72078  0.74335 -0.63288 -8.94255  10.07998  0.82252   \n",
       "1002     Jorg  0.34186  0.10278 -0.39189 -9.05518   9.98665  0.04969   \n",
       "1003     Jorg  0.57296 -0.40369 -1.73764 -9.01203   9.86515 -0.39589   \n",
       "\n",
       "                      x7       x8       x9       x10      x11    x12  \\\n",
       "0     Erik Sven Williams  0.54191  0.52041  -5.66990 -0.93831  False   \n",
       "1     Erik Sven Williams -1.21671  1.18749  -9.25300 -1.21892  False   \n",
       "2     Erik Sven Williams -2.39764  1.95167  -9.46447 -2.68910   True   \n",
       "3       Jerry från Solna  0.09768  0.92010 -11.17952  0.59877  False   \n",
       "4        Jerry Fernström -0.46134  0.16381 -12.07755  1.09106   True   \n",
       "...                  ...      ...      ...       ...      ...    ...   \n",
       "999      Jerry Fernström  0.69268 -0.58989 -10.53091  0.20014  False   \n",
       "1000  Erik Sven Williams  0.22119 -1.57906  -9.80819 -2.42307  False   \n",
       "1001     Jerry Fernström  1.49456  2.23215  -7.26243  0.69045   True   \n",
       "1002     Jerry Fernström -0.25843  0.24975  -9.88372  0.47915  False   \n",
       "1003  Erik Sven Williams  1.32041  0.94174  -6.46244  0.50173  False   \n",
       "\n",
       "            x13  yenc  x7enc  x12enc  \n",
       "0     107.78776     3      1       0  \n",
       "1      98.63633     1      1       0  \n",
       "2       1.49880     1      1       1  \n",
       "3      18.81785     2      4       0  \n",
       "4      63.44326     2      2       1  \n",
       "...         ...   ...    ...     ...  \n",
       "999   145.13294     3      2       0  \n",
       "1000    8.15681     3      1       0  \n",
       "1001   35.72234     2      2       1  \n",
       "1002   16.89682     2      2       0  \n",
       "1003   27.77929     2      1       0  \n",
       "\n",
       "[995 rows x 17 columns]"
      ]
     },
     "execution_count": 14,
     "metadata": {},
     "output_type": "execute_result"
    }
   ],
   "source": [
    "train"
   ]
  },
  {
   "cell_type": "code",
   "execution_count": 15,
   "id": "stylish-cisco",
   "metadata": {},
   "outputs": [],
   "source": [
    "trainM = train[[\"x1\",\"x2\",\"x3\",\"x4\",\"x5\",\"x6\", \"x8\",\"x9\",\"x10\",\"x11\",\"x13\",\"yenc\",\"x7enc\",\"x12enc\"]]"
   ]
  },
  {
   "cell_type": "code",
   "execution_count": 16,
   "id": "nasty-blend",
   "metadata": {},
   "outputs": [
    {
     "data": {
      "text/plain": [
       "((995,), (995, 13))"
      ]
     },
     "execution_count": 16,
     "metadata": {},
     "output_type": "execute_result"
    }
   ],
   "source": [
    "trainY,trainX = trainM[\"yenc\"], trainM.drop(\"yenc\", axis=1)\n",
    "trainY.shape, trainX.shape"
   ]
  },
  {
   "cell_type": "code",
   "execution_count": 17,
   "id": "administrative-tract",
   "metadata": {},
   "outputs": [
    {
     "data": {
      "text/html": [
       "<div>\n",
       "<style scoped>\n",
       "    .dataframe tbody tr th:only-of-type {\n",
       "        vertical-align: middle;\n",
       "    }\n",
       "\n",
       "    .dataframe tbody tr th {\n",
       "        vertical-align: top;\n",
       "    }\n",
       "\n",
       "    .dataframe thead th {\n",
       "        text-align: right;\n",
       "    }\n",
       "</style>\n",
       "<table border=\"1\" class=\"dataframe\">\n",
       "  <thead>\n",
       "    <tr style=\"text-align: right;\">\n",
       "      <th></th>\n",
       "      <th>y</th>\n",
       "      <th>x1</th>\n",
       "      <th>x2</th>\n",
       "      <th>x3</th>\n",
       "      <th>x4</th>\n",
       "      <th>x5</th>\n",
       "      <th>x6</th>\n",
       "      <th>x7</th>\n",
       "      <th>x8</th>\n",
       "      <th>x9</th>\n",
       "      <th>x10</th>\n",
       "      <th>x11</th>\n",
       "      <th>x12</th>\n",
       "      <th>x13</th>\n",
       "      <th>yenc</th>\n",
       "      <th>x7enc</th>\n",
       "      <th>x12enc</th>\n",
       "    </tr>\n",
       "  </thead>\n",
       "  <tbody>\n",
       "    <tr>\n",
       "      <th>0</th>\n",
       "      <td>Shoogee</td>\n",
       "      <td>2.20274</td>\n",
       "      <td>-0.0469</td>\n",
       "      <td>-4.69816</td>\n",
       "      <td>-9.078</td>\n",
       "      <td>10.13118</td>\n",
       "      <td>-0.089</td>\n",
       "      <td>Erik Sven Williams</td>\n",
       "      <td>0.54191</td>\n",
       "      <td>0.52041</td>\n",
       "      <td>-5.6699</td>\n",
       "      <td>-0.93831</td>\n",
       "      <td>False</td>\n",
       "      <td>107.78776</td>\n",
       "      <td>3</td>\n",
       "      <td>1</td>\n",
       "      <td>0</td>\n",
       "    </tr>\n",
       "  </tbody>\n",
       "</table>\n",
       "</div>"
      ],
      "text/plain": [
       "         y       x1      x2       x3     x4        x5     x6  \\\n",
       "0  Shoogee  2.20274 -0.0469 -4.69816 -9.078  10.13118 -0.089   \n",
       "\n",
       "                   x7       x8       x9     x10      x11    x12        x13  \\\n",
       "0  Erik Sven Williams  0.54191  0.52041 -5.6699 -0.93831  False  107.78776   \n",
       "\n",
       "   yenc  x7enc  x12enc  \n",
       "0     3      1       0  "
      ]
     },
     "execution_count": 17,
     "metadata": {},
     "output_type": "execute_result"
    }
   ],
   "source": [
    "train.head(1)"
   ]
  },
  {
   "cell_type": "code",
   "execution_count": 18,
   "id": "painted-america",
   "metadata": {},
   "outputs": [
    {
     "data": {
      "image/png": "[encoded data removed]",
      "text/plain": [
       "<Figure size 864x648 with 2 Axes>"
      ]
     },
     "metadata": {
      "needs_background": "light"
     },
     "output_type": "display_data"
    }
   ],
   "source": [
    "corrmat = trainM.corr()\n",
    "f, ax = plt.subplots(figsize=(12, 9))\n",
    "sns.heatmap(corrmat, vmin = -0.6 ,vmax=0.5, annot=True, square=True, fmt='.2f');"
   ]
  },
  {
   "cell_type": "markdown",
   "id": "stylish-comedy",
   "metadata": {},
   "source": [
    "## Model making"
   ]
  },
  {
   "cell_type": "code",
   "execution_count": 19,
   "id": "breathing-seller",
   "metadata": {},
   "outputs": [
    {
     "data": {
      "text/plain": [
       "((746, 13), (249, 13), (746,), (249,))"
      ]
     },
     "execution_count": 19,
     "metadata": {},
     "output_type": "execute_result"
    }
   ],
   "source": [
    "from sklearn.model_selection import train_test_split\n",
    "\n",
    "train_X, test_X, train_y, test_y = train_test_split(trainX.to_numpy(), trainY.to_numpy(), test_size=0.25)\n",
    "train_X.shape, test_X.shape, train_y.shape, test_y.shape"
   ]
  },
  {
   "cell_type": "code",
   "execution_count": 22,
   "id": "lesbian-status",
   "metadata": {},
   "outputs": [
    {
     "ename": "XGBoostError",
     "evalue": "\nXGBoost Library (libxgboost.dylib) could not be loaded.\nLikely causes:\n  * OpenMP runtime is not installed\n    - vcomp140.dll or libgomp-1.dll for Windows\n    - libomp.dylib for Mac OSX\n    - libgomp.so for Linux and other UNIX-like OSes\n    Mac OSX users: Run `brew install libomp` to install OpenMP runtime.\n\n  * You are running 32-bit Python on a 64-bit OS\n\nError message(s): ['dlopen(/Library/Frameworks/Python.framework/Versions/3.9/lib/python3.9/site-packages/xgboost/lib/libxgboost.dylib, 6): Library not loaded: /usr/local/opt/libomp/lib/libomp.dylib\\n  Referenced from: /Library/Frameworks/Python.framework/Versions/3.9/lib/python3.9/site-packages/xgboost/lib/libxgboost.dylib\\n  Reason: image not found']\n",
     "output_type": "error",
     "traceback": [
      "\u001b[0;31m---------------------------------------------------------------------------\u001b[0m",
      "\u001b[0;31mXGBoostError\u001b[0m                              Traceback (most recent call last)",
      "\u001b[0;32m<ipython-input-22-1ad8d3153a37>\u001b[0m in \u001b[0;36m<module>\u001b[0;34m\u001b[0m\n\u001b[0;32m----> 1\u001b[0;31m \u001b[0;32mfrom\u001b[0m \u001b[0mXGBoost\u001b[0m\u001b[0;34m.\u001b[0m\u001b[0mpy\u001b[0m \u001b[0;32mimport\u001b[0m \u001b[0mtraining\u001b[0m\u001b[0;34m\u001b[0m\u001b[0;34m\u001b[0m\u001b[0m\n\u001b[0m\u001b[1;32m      2\u001b[0m \u001b[0;34m\u001b[0m\u001b[0m\n\u001b[1;32m      3\u001b[0m \u001b[0mmodel\u001b[0m \u001b[0;34m=\u001b[0m \u001b[0mtraining\u001b[0m\u001b[0;34m(\u001b[0m\u001b[0mtrain_X\u001b[0m\u001b[0;34m,\u001b[0m \u001b[0mtrain_y\u001b[0m\u001b[0;34m)\u001b[0m\u001b[0;34m\u001b[0m\u001b[0;34m\u001b[0m\u001b[0m\n",
      "\u001b[0;32m~/Documents/KTH/Machine Learning/challenge/XGBoost.py\u001b[0m in \u001b[0;36m<module>\u001b[0;34m\u001b[0m\n\u001b[0;32m----> 1\u001b[0;31m \u001b[0;32mfrom\u001b[0m \u001b[0mxgboost\u001b[0m \u001b[0;32mimport\u001b[0m \u001b[0mXGBRegressor\u001b[0m\u001b[0;34m\u001b[0m\u001b[0;34m\u001b[0m\u001b[0m\n\u001b[0m\u001b[1;32m      2\u001b[0m \u001b[0;34m\u001b[0m\u001b[0m\n\u001b[1;32m      3\u001b[0m \u001b[0;32mdef\u001b[0m \u001b[0mtraining\u001b[0m\u001b[0;34m(\u001b[0m\u001b[0mtrain_X\u001b[0m\u001b[0;34m,\u001b[0m \u001b[0mtrain_y\u001b[0m\u001b[0;34m)\u001b[0m\u001b[0;34m:\u001b[0m\u001b[0;34m\u001b[0m\u001b[0;34m\u001b[0m\u001b[0m\n\u001b[1;32m      4\u001b[0m     \u001b[0mmy_model\u001b[0m \u001b[0;34m=\u001b[0m \u001b[0mXGBRegressor\u001b[0m\u001b[0;34m(\u001b[0m\u001b[0;34m)\u001b[0m\u001b[0;34m\u001b[0m\u001b[0;34m\u001b[0m\u001b[0m\n\u001b[1;32m      5\u001b[0m     \u001b[0mmy_model\u001b[0m\u001b[0;34m.\u001b[0m\u001b[0mfit\u001b[0m\u001b[0;34m(\u001b[0m\u001b[0mtrain_X\u001b[0m\u001b[0;34m,\u001b[0m \u001b[0mtrain_y\u001b[0m\u001b[0;34m,\u001b[0m \u001b[0mverbose\u001b[0m\u001b[0;34m=\u001b[0m\u001b[0;32mFalse\u001b[0m\u001b[0;34m)\u001b[0m\u001b[0;34m\u001b[0m\u001b[0;34m\u001b[0m\u001b[0m\n",
      "\u001b[0;32m/Library/Frameworks/Python.framework/Versions/3.9/lib/python3.9/site-packages/xgboost/__init__.py\u001b[0m in \u001b[0;36m<module>\u001b[0;34m\u001b[0m\n\u001b[1;32m      7\u001b[0m \u001b[0;32mimport\u001b[0m \u001b[0mos\u001b[0m\u001b[0;34m\u001b[0m\u001b[0;34m\u001b[0m\u001b[0m\n\u001b[1;32m      8\u001b[0m \u001b[0;34m\u001b[0m\u001b[0m\n\u001b[0;32m----> 9\u001b[0;31m \u001b[0;32mfrom\u001b[0m \u001b[0;34m.\u001b[0m\u001b[0mcore\u001b[0m \u001b[0;32mimport\u001b[0m \u001b[0mDMatrix\u001b[0m\u001b[0;34m,\u001b[0m \u001b[0mDeviceQuantileDMatrix\u001b[0m\u001b[0;34m,\u001b[0m \u001b[0mBooster\u001b[0m\u001b[0;34m,\u001b[0m \u001b[0mDataIter\u001b[0m\u001b[0;34m\u001b[0m\u001b[0;34m\u001b[0m\u001b[0m\n\u001b[0m\u001b[1;32m     10\u001b[0m \u001b[0;32mfrom\u001b[0m \u001b[0;34m.\u001b[0m\u001b[0mtraining\u001b[0m \u001b[0;32mimport\u001b[0m \u001b[0mtrain\u001b[0m\u001b[0;34m,\u001b[0m \u001b[0mcv\u001b[0m\u001b[0;34m\u001b[0m\u001b[0;34m\u001b[0m\u001b[0m\n\u001b[1;32m     11\u001b[0m \u001b[0;32mfrom\u001b[0m \u001b[0;34m.\u001b[0m \u001b[0;32mimport\u001b[0m \u001b[0mrabit\u001b[0m  \u001b[0;31m# noqa\u001b[0m\u001b[0;34m\u001b[0m\u001b[0;34m\u001b[0m\u001b[0m\n",
      "\u001b[0;32m/Library/Frameworks/Python.framework/Versions/3.9/lib/python3.9/site-packages/xgboost/core.py\u001b[0m in \u001b[0;36m<module>\u001b[0;34m\u001b[0m\n\u001b[1;32m    201\u001b[0m \u001b[0;34m\u001b[0m\u001b[0m\n\u001b[1;32m    202\u001b[0m \u001b[0;31m# load the XGBoost library globally\u001b[0m\u001b[0;34m\u001b[0m\u001b[0;34m\u001b[0m\u001b[0;34m\u001b[0m\u001b[0m\n\u001b[0;32m--> 203\u001b[0;31m \u001b[0m_LIB\u001b[0m \u001b[0;34m=\u001b[0m \u001b[0m_load_lib\u001b[0m\u001b[0;34m(\u001b[0m\u001b[0;34m)\u001b[0m\u001b[0;34m\u001b[0m\u001b[0;34m\u001b[0m\u001b[0m\n\u001b[0m\u001b[1;32m    204\u001b[0m \u001b[0;34m\u001b[0m\u001b[0m\n\u001b[1;32m    205\u001b[0m \u001b[0;34m\u001b[0m\u001b[0m\n",
      "\u001b[0;32m/Library/Frameworks/Python.framework/Versions/3.9/lib/python3.9/site-packages/xgboost/core.py\u001b[0m in \u001b[0;36m_load_lib\u001b[0;34m()\u001b[0m\n\u001b[1;32m    179\u001b[0m     \u001b[0;32mif\u001b[0m \u001b[0;32mnot\u001b[0m \u001b[0mlib_success\u001b[0m\u001b[0;34m:\u001b[0m\u001b[0;34m\u001b[0m\u001b[0;34m\u001b[0m\u001b[0m\n\u001b[1;32m    180\u001b[0m         \u001b[0mlibname\u001b[0m \u001b[0;34m=\u001b[0m \u001b[0mos\u001b[0m\u001b[0;34m.\u001b[0m\u001b[0mpath\u001b[0m\u001b[0;34m.\u001b[0m\u001b[0mbasename\u001b[0m\u001b[0;34m(\u001b[0m\u001b[0mlib_paths\u001b[0m\u001b[0;34m[\u001b[0m\u001b[0;36m0\u001b[0m\u001b[0;34m]\u001b[0m\u001b[0;34m)\u001b[0m\u001b[0;34m\u001b[0m\u001b[0;34m\u001b[0m\u001b[0m\n\u001b[0;32m--> 181\u001b[0;31m         raise XGBoostError(\n\u001b[0m\u001b[1;32m    182\u001b[0m             f\"\"\"\n\u001b[1;32m    183\u001b[0m \u001b[0mXGBoost\u001b[0m \u001b[0mLibrary\u001b[0m \u001b[0;34m(\u001b[0m\u001b[0;34m{\u001b[0m\u001b[0mlibname\u001b[0m\u001b[0;34m}\u001b[0m\u001b[0;34m)\u001b[0m \u001b[0mcould\u001b[0m \u001b[0;32mnot\u001b[0m \u001b[0mbe\u001b[0m \u001b[0mloaded\u001b[0m\u001b[0;34m.\u001b[0m\u001b[0;34m\u001b[0m\u001b[0;34m\u001b[0m\u001b[0m\n",
      "\u001b[0;31mXGBoostError\u001b[0m: \nXGBoost Library (libxgboost.dylib) could not be loaded.\nLikely causes:\n  * OpenMP runtime is not installed\n    - vcomp140.dll or libgomp-1.dll for Windows\n    - libomp.dylib for Mac OSX\n    - libgomp.so for Linux and other UNIX-like OSes\n    Mac OSX users: Run `brew install libomp` to install OpenMP runtime.\n\n  * You are running 32-bit Python on a 64-bit OS\n\nError message(s): ['dlopen(/Library/Frameworks/Python.framework/Versions/3.9/lib/python3.9/site-packages/xgboost/lib/libxgboost.dylib, 6): Library not loaded: /usr/local/opt/libomp/lib/libomp.dylib\\n  Referenced from: /Library/Frameworks/Python.framework/Versions/3.9/lib/python3.9/site-packages/xgboost/lib/libxgboost.dylib\\n  Reason: image not found']\n"
     ]
    }
   ],
   "source": [
    "from xgboost import XGBRegressor\n",
    "\n",
    "my_model = XGBRegressor()\n",
    "my_model.fit(train_X, train_y, verbose=False)"
   ]
  },
  {
   "cell_type": "code",
   "execution_count": 9,
   "id": "parliamentary-brown",
   "metadata": {},
   "outputs": [],
   "source": [
    "evals = pd.read_csv(\"result/EvaluationGT-2.csv\", header=None)"
   ]
  },
  {
   "cell_type": "code",
   "execution_count": 12,
   "id": "yellow-techno",
   "metadata": {},
   "outputs": [],
   "source": [
    "result = pd.read_csv(\"result/result.txt\", header = None)"
   ]
  },
  {
   "cell_type": "code",
   "execution_count": 14,
   "id": "incomplete-venture",
   "metadata": {},
   "outputs": [
    {
     "data": {
      "text/plain": [
       "array([['Jorg'],\n",
       "       ['Jorg'],\n",
       "       ['Jorg'],\n",
       "       ...,\n",
       "       ['Jorg'],\n",
       "       ['Bob'],\n",
       "       ['Atsuto']], dtype=object)"
      ]
     },
     "execution_count": 14,
     "metadata": {},
     "output_type": "execute_result"
    }
   ],
   "source": [
    "result.to_numpy()"
   ]
  },
  {
   "cell_type": "code",
   "execution_count": 11,
   "id": "innovative-rebecca",
   "metadata": {},
   "outputs": [
    {
     "data": {
      "text/plain": [
       "array([['Shoogee'],\n",
       "       ['Bob'],\n",
       "       ['Jorg'],\n",
       "       ...,\n",
       "       ['Jorg'],\n",
       "       ['Jorg'],\n",
       "       ['Jorg']], dtype=object)"
      ]
     },
     "execution_count": 11,
     "metadata": {},
     "output_type": "execute_result"
    }
   ],
   "source": [
    "evals.to_numpy()"
   ]
  },
  {
   "cell_type": "code",
   "execution_count": 15,
   "id": "intelligent-postage",
   "metadata": {},
   "outputs": [],
   "source": [
    "from sklearn.metrics import accuracy_score"
   ]
  },
  {
   "cell_type": "code",
   "execution_count": null,
   "id": "quarterly-yesterday",
   "metadata": {},
   "outputs": [],
   "source": [
    "accuracy_score(evals.to_numpy(, pred)"
   ]
  }
 ],
 "metadata": {
  "kernelspec": {
   "display_name": "Python 3",
   "language": "python",
   "name": "python3"
  },
  "language_info": {
   "codemirror_mode": {
    "name": "ipython",
    "version": 3
   },
   "file_extension": ".py",
   "mimetype": "text/x-python",
   "name": "python",
   "nbconvert_exporter": "python",
   "pygments_lexer": "ipython3",
   "version": "3.9.2"
  }
 },
 "nbformat": 4,
 "nbformat_minor": 5
}
